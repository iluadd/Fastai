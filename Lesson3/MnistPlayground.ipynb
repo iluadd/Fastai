{
 "cells": [
  {
   "cell_type": "code",
   "execution_count": 1,
   "id": "43d53817-36fb-411d-832b-9091ea4f6c9a",
   "metadata": {},
   "outputs": [],
   "source": [
    "from fastai.vision.all import *\n",
    "from fastbook import *\n",
    "\n",
    "matplotlib.rc('image', cmap='Greys')"
   ]
  },
  {
   "cell_type": "code",
   "execution_count": 2,
   "id": "93aec9d0-9cb5-4364-8f56-cd48ad10ab61",
   "metadata": {},
   "outputs": [],
   "source": [
    "path = untar_data(URLs.MNIST)"
   ]
  },
  {
   "cell_type": "code",
   "execution_count": 3,
   "id": "44c6ff0b-fd1c-48b3-b0f2-b57dca26475a",
   "metadata": {},
   "outputs": [
    {
     "data": {
      "text/plain": [
       "(#2) [Path('/home/ilua/.fastai/data/mnist_png/training'),Path('/home/ilua/.fastai/data/mnist_png/testing')]"
      ]
     },
     "execution_count": 3,
     "metadata": {},
     "output_type": "execute_result"
    }
   ],
   "source": [
    "path.ls()"
   ]
  },
  {
   "cell_type": "code",
   "execution_count": 4,
   "id": "50f9fbee-5f9b-477d-8b9a-032074b231a8",
   "metadata": {},
   "outputs": [],
   "source": [
    "num_numbers = len((path/'/home/ilua/.fastai/data/mnist_png/training/').ls())"
   ]
  },
  {
   "cell_type": "code",
   "execution_count": 92,
   "id": "990abd98-4004-4ea0-bb2f-ff64afe26f59",
   "metadata": {},
   "outputs": [],
   "source": [
    "num_numbers = 10"
   ]
  },
  {
   "cell_type": "code",
   "execution_count": 93,
   "id": "e7276720-5413-423a-ab8d-c4486bef98c1",
   "metadata": {},
   "outputs": [
    {
     "name": "stdout",
     "output_type": "stream",
     "text": [
      "train_x.shape :  torch.Size([60000, 784])\n",
      "train_y.shape :  torch.Size([60000])\n"
     ]
    }
   ],
   "source": [
    "for number in range(num_numbers):\n",
    "    image_array = (path/'/home/ilua/.fastai/data/mnist_png/training/{}'.format(number)).ls().sorted()\n",
    "    current_tensor = [tensor(Image.open(o)) for o in image_array]\n",
    "    train_x_one = torch.stack(current_tensor).float()/255\n",
    "    train_y_one = tensor([number]*train_x_one.size(dim=0))\n",
    "    if number == 0:\n",
    "        train_x = train_x_one\n",
    "        train_y = train_y_one\n",
    "    else:\n",
    "        train_x = torch.cat([train_x, train_x_one])\n",
    "        train_y = torch.cat([train_y, train_y_one])\n",
    "train_x = train_x.view(-1, 28*28) \n",
    "print('train_x.shape : ',train_x.shape)\n",
    "print('train_y.shape : ',train_y.shape)"
   ]
  },
  {
   "cell_type": "code",
   "execution_count": 6,
   "id": "1a49219e-f88b-4c23-b609-fbe73edab478",
   "metadata": {},
   "outputs": [
    {
     "name": "stdout",
     "output_type": "stream",
     "text": [
      "tensor([[1, 0, 0,  ..., 0, 0, 0],\n",
      "        [1, 0, 0,  ..., 0, 0, 0],\n",
      "        [1, 0, 0,  ..., 0, 0, 0],\n",
      "        ...,\n",
      "        [0, 0, 0,  ..., 0, 0, 1],\n",
      "        [0, 0, 0,  ..., 0, 0, 1],\n",
      "        [0, 0, 0,  ..., 0, 0, 1]])\n",
      "torch.Size([60000, 10])\n"
     ]
    }
   ],
   "source": [
    "train_y_onehot = torch.nn.functional.one_hot(train_y, num_classes=10)\n",
    "print(train_y_onehot)\n",
    "print(train_y_onehot.shape)"
   ]
  },
  {
   "cell_type": "code",
   "execution_count": 8,
   "id": "7dd86940-8a46-4fd8-8e1b-05165c9a56c8",
   "metadata": {},
   "outputs": [
    {
     "data": {
      "text/plain": [
       "(torch.Size([784]), tensor([1, 0, 0, 0, 0, 0, 0, 0, 0, 0]))"
      ]
     },
     "execution_count": 8,
     "metadata": {},
     "output_type": "execute_result"
    }
   ],
   "source": [
    "dset = list(zip(train_x, train_y_onehot))\n",
    "x,y = dset[5000]\n",
    "x.shape,y"
   ]
  },
  {
   "cell_type": "markdown",
   "id": "8b71c7da-4d64-4b42-8e3a-fdc01d04f634",
   "metadata": {},
   "source": [
    "***Splitting data to train and validation parts***"
   ]
  },
  {
   "cell_type": "code",
   "execution_count": 9,
   "id": "d0e76837-e9a2-4aee-a61f-d1938a6d672d",
   "metadata": {},
   "outputs": [],
   "source": [
    "from torch.utils.data import random_split\n",
    "train_subset, val_subset = random_split(dset, [50000, 10000])"
   ]
  },
  {
   "cell_type": "code",
   "execution_count": 10,
   "id": "81490926-4d40-4886-969b-52ea82630588",
   "metadata": {},
   "outputs": [
    {
     "data": {
      "text/plain": [
       "tensor([0, 0, 1, 0, 0, 0, 0, 0, 0, 0])"
      ]
     },
     "execution_count": 10,
     "metadata": {},
     "output_type": "execute_result"
    }
   ],
   "source": [
    "x,y = train_subset[10000]\n",
    "val_subset[8][1]"
   ]
  },
  {
   "cell_type": "code",
   "execution_count": 11,
   "id": "68f9f1ed-2558-452f-b57a-86151b5adc86",
   "metadata": {},
   "outputs": [
    {
     "data": {
      "text/plain": [
       "torch.Size([784])"
      ]
     },
     "execution_count": 11,
     "metadata": {},
     "output_type": "execute_result"
    }
   ],
   "source": [
    "val_subset[8][0].shape"
   ]
  },
  {
   "cell_type": "markdown",
   "id": "a29f814e-659b-427d-9036-4e078da96d33",
   "metadata": {},
   "source": [
    "***Creating Dataloader***"
   ]
  },
  {
   "cell_type": "code",
   "execution_count": 12,
   "id": "4ffe011d-4e37-4bc2-a6dc-3d70840a5565",
   "metadata": {},
   "outputs": [
    {
     "data": {
      "text/plain": [
       "(torch.Size([256, 784]), torch.Size([256, 10]))"
      ]
     },
     "execution_count": 12,
     "metadata": {},
     "output_type": "execute_result"
    }
   ],
   "source": [
    "dl = DataLoader(train_subset, batch_size=256)\n",
    "xb,yb = first(dl)\n",
    "xb.shape,yb.shape"
   ]
  },
  {
   "cell_type": "code",
   "execution_count": 13,
   "id": "1a7c9c1c-c4a2-4c09-808b-bb5cc262443f",
   "metadata": {},
   "outputs": [
    {
     "data": {
      "text/plain": [
       "tensor([[0., 0., 0.,  ..., 0., 0., 0.],\n",
       "        [0., 0., 0.,  ..., 0., 0., 0.],\n",
       "        [0., 0., 0.,  ..., 0., 0., 0.],\n",
       "        [0., 0., 0.,  ..., 0., 0., 0.],\n",
       "        [0., 0., 0.,  ..., 0., 0., 0.]])"
      ]
     },
     "execution_count": 13,
     "metadata": {},
     "output_type": "execute_result"
    }
   ],
   "source": [
    "train5samplesX = xb[:5]\n",
    "train5samplesX"
   ]
  },
  {
   "cell_type": "code",
   "execution_count": 20,
   "id": "796be8ae-e618-47d3-95ca-607a80a8b484",
   "metadata": {},
   "outputs": [
    {
     "data": {
      "text/plain": [
       "tensor([[0, 0, 0, 0, 0, 0, 1, 0, 0, 0],\n",
       "        [0, 0, 0, 0, 0, 0, 0, 1, 0, 0],\n",
       "        [1, 0, 0, 0, 0, 0, 0, 0, 0, 0],\n",
       "        [0, 0, 0, 0, 1, 0, 0, 0, 0, 0],\n",
       "        [0, 0, 0, 0, 0, 0, 1, 0, 0, 0]])"
      ]
     },
     "execution_count": 20,
     "metadata": {},
     "output_type": "execute_result"
    }
   ],
   "source": [
    "train5samplesY = yb[:5]\n",
    "train5samplesY"
   ]
  },
  {
   "cell_type": "code",
   "execution_count": 15,
   "id": "abc475a5-a2d9-4719-98c3-bc9ec38eacad",
   "metadata": {},
   "outputs": [],
   "source": [
    "def init_params(size, std=1.0): return (torch.randn(size)*std).requires_grad_()\n",
    "\n",
    "weights = init_params((28*28, 10))"
   ]
  },
  {
   "cell_type": "code",
   "execution_count": 16,
   "id": "4ca20b86-c10c-4c16-b373-38063a7d5ca4",
   "metadata": {},
   "outputs": [],
   "source": [
    "bias = init_params(10)"
   ]
  },
  {
   "cell_type": "markdown",
   "id": "3620fbff-e639-455a-a105-424fa3f1d65f",
   "metadata": {},
   "source": [
    "***Just a One row***"
   ]
  },
  {
   "cell_type": "code",
   "execution_count": 17,
   "id": "47210c5f-7914-459b-bdfe-6f3dad54aa11",
   "metadata": {},
   "outputs": [
    {
     "data": {
      "text/plain": [
       "tensor([ 2.2850,  3.7128,  2.6190,  1.7300,  1.9613,  1.3363,  0.3574,  2.7029, -0.6055,  2.1184], grad_fn=<AddBackward0>)"
      ]
     },
     "execution_count": 17,
     "metadata": {},
     "output_type": "execute_result"
    }
   ],
   "source": [
    "(train5samplesX[0]*weights.T).sum() + bias"
   ]
  },
  {
   "cell_type": "markdown",
   "id": "4211a677-057b-4ff9-b64d-79b255580f64",
   "metadata": {},
   "source": [
    "***Introducing a matrix***"
   ]
  },
  {
   "cell_type": "code",
   "execution_count": 18,
   "id": "a38a3724-0418-4872-a906-ddd58e80f666",
   "metadata": {},
   "outputs": [
    {
     "data": {
      "text/plain": [
       "tensor([[ 13.7140,  -7.1461,  -4.6153,  -4.8304,  -3.9931,   1.9154,   7.9000,   4.5809, -13.6448,   7.7113],\n",
       "        [  6.3873, -11.1138, -16.3354,  -2.3152,  15.7239,  -4.1659,  14.1441,   3.6211,   4.4445,  11.0829],\n",
       "        [-10.4526, -10.5237,   1.7343, -19.2866,   7.7671,   7.6704,  18.9899,   2.8703,  -2.7446,   4.9299],\n",
       "        [  0.2623,  -5.6711,  -0.1749,   0.7750,  10.2444,  -8.9311,  13.1438,   1.5010,  15.5694,   0.5869],\n",
       "        [  6.3304,  -3.8711,  11.0098,  -7.3885,   7.6471,  10.7820,  -4.6661,  -7.3201,  -6.0965,  16.0183]], grad_fn=<AddBackward0>)"
      ]
     },
     "execution_count": 18,
     "metadata": {},
     "output_type": "execute_result"
    }
   ],
   "source": [
    "def linear1(xb): return xb@weights + bias\n",
    "preds = linear1(train5samplesX)\n",
    "preds"
   ]
  },
  {
   "cell_type": "code",
   "execution_count": 21,
   "id": "3b115fce-dd35-4dbe-9286-29c9b9697a0e",
   "metadata": {},
   "outputs": [
    {
     "name": "stdout",
     "output_type": "stream",
     "text": [
      "tensor([0, 4, 6, 8, 9]) tensor([6, 7, 0, 4, 6])\n"
     ]
    },
    {
     "data": {
      "text/plain": [
       "tensor([False, False, False, False, False])"
      ]
     },
     "execution_count": 21,
     "metadata": {},
     "output_type": "execute_result"
    }
   ],
   "source": [
    "predicted_classes = preds.argmax(dim=1)\n",
    "correct_classes = train5samplesY.argmax(dim=1)\n",
    "print(predicted_classes, correct_classes)\n",
    "torch.eq(predicted_classes, correct_classes)\n"
   ]
  },
  {
   "cell_type": "code",
   "execution_count": 23,
   "id": "78ba6a51-57c9-4bcd-b88b-c92a86375213",
   "metadata": {},
   "outputs": [],
   "source": [
    "import torch\n",
    "import torch.nn.functional as F\n",
    "\n",
    "def cross_entropy_loss(outputs, labels):\n",
    "    labels = labels.argmax(dim=1)\n",
    "    # Apply log softmax on outputs\n",
    "    outputs = F.log_softmax(outputs, dim=1)\n",
    "\n",
    "    # Pick the values corresponding to the labels\n",
    "    outputs = outputs[range(outputs.shape[0]), labels]\n",
    "    return -torch.mean(outputs)"
   ]
  },
  {
   "cell_type": "code",
   "execution_count": 24,
   "id": "39946a8d-6e55-4a68-b934-0e44d2b4a922",
   "metadata": {},
   "outputs": [],
   "source": [
    "outputs = F.log_softmax(preds, dim=1)"
   ]
  },
  {
   "cell_type": "code",
   "execution_count": 25,
   "id": "bf1d75dd-e77d-4e73-975d-c59c940ffce4",
   "metadata": {},
   "outputs": [
    {
     "data": {
      "text/plain": [
       "tensor([6, 7, 0, 4, 6])"
      ]
     },
     "execution_count": 25,
     "metadata": {},
     "output_type": "execute_result"
    }
   ],
   "source": [
    "train5samplesY.argmax(dim=1)"
   ]
  },
  {
   "cell_type": "code",
   "execution_count": 26,
   "id": "ca04bc85-4ddb-40d0-bf08-dec204312864",
   "metadata": {},
   "outputs": [
    {
     "data": {
      "text/plain": [
       "tensor([ -5.8196, -12.2982, -29.4426,  -5.4143, -20.6966], grad_fn=<IndexBackward0>)"
      ]
     },
     "execution_count": 26,
     "metadata": {},
     "output_type": "execute_result"
    }
   ],
   "source": [
    "outputs[range(5),train5samplesY.argmax(dim=1)]"
   ]
  },
  {
   "cell_type": "code",
   "execution_count": 27,
   "id": "23d3d612-1c75-432b-850e-8b142b2746ca",
   "metadata": {},
   "outputs": [
    {
     "data": {
      "text/plain": [
       "(torch.Size([5, 10]), torch.Size([5, 10]))"
      ]
     },
     "execution_count": 27,
     "metadata": {},
     "output_type": "execute_result"
    }
   ],
   "source": [
    "preds.shape, train5samplesY.shape"
   ]
  },
  {
   "cell_type": "code",
   "execution_count": 28,
   "id": "87083052-a11f-4365-8601-53b2d54af21b",
   "metadata": {},
   "outputs": [
    {
     "data": {
      "text/plain": [
       "tensor(14.7342, grad_fn=<NegBackward0>)"
      ]
     },
     "execution_count": 28,
     "metadata": {},
     "output_type": "execute_result"
    }
   ],
   "source": [
    "cross_entropy_loss(preds, train5samplesY)"
   ]
  },
  {
   "cell_type": "code",
   "execution_count": 29,
   "id": "6a469671-5c55-4cc2-9ab9-3878a842a499",
   "metadata": {},
   "outputs": [
    {
     "data": {
      "text/plain": [
       "tensor([[ 1.3783,  1.6179, -0.2142,  ...,  1.5158, -1.6900, -1.2508],\n",
       "        [ 0.2404,  1.4172, -1.5082,  ...,  1.4478, -1.0887,  0.2604],\n",
       "        [-0.1127,  0.2966, -0.7654,  ..., -0.6982, -1.3256,  1.1696],\n",
       "        ...,\n",
       "        [ 0.9060,  0.0317,  0.5278,  ...,  0.7861, -0.8612, -0.0091],\n",
       "        [ 0.6330, -1.0880, -0.7266,  ..., -1.2868, -0.2188,  1.2752],\n",
       "        [ 1.5765, -1.1352,  1.0076,  ...,  0.2015,  0.2746,  0.3140]], requires_grad=True)"
      ]
     },
     "execution_count": 29,
     "metadata": {},
     "output_type": "execute_result"
    }
   ],
   "source": [
    "weights"
   ]
  },
  {
   "cell_type": "code",
   "execution_count": null,
   "id": "ddca39bf-3e90-4d04-b4c1-aaa20487a2d8",
   "metadata": {},
   "outputs": [],
   "source": [
    "with torch.no_grad(): weights *= 1.0002"
   ]
  },
  {
   "cell_type": "code",
   "execution_count": 30,
   "id": "295f0053-e4f0-496d-90f2-53506ada70b1",
   "metadata": {},
   "outputs": [
    {
     "data": {
      "text/plain": [
       "tensor([[ 1.3783,  1.6179, -0.2142,  ...,  1.5158, -1.6900, -1.2508],\n",
       "        [ 0.2404,  1.4172, -1.5082,  ...,  1.4478, -1.0887,  0.2604],\n",
       "        [-0.1127,  0.2966, -0.7654,  ..., -0.6982, -1.3256,  1.1696],\n",
       "        ...,\n",
       "        [ 0.9060,  0.0317,  0.5278,  ...,  0.7861, -0.8612, -0.0091],\n",
       "        [ 0.6330, -1.0880, -0.7266,  ..., -1.2868, -0.2188,  1.2752],\n",
       "        [ 1.5765, -1.1352,  1.0076,  ...,  0.2015,  0.2746,  0.3140]], requires_grad=True)"
      ]
     },
     "execution_count": 30,
     "metadata": {},
     "output_type": "execute_result"
    }
   ],
   "source": [
    "weights"
   ]
  },
  {
   "cell_type": "code",
   "execution_count": 31,
   "id": "a151820d-78c1-494b-b276-5f841b6258c8",
   "metadata": {},
   "outputs": [
    {
     "data": {
      "text/plain": [
       "tensor([[ 13.7140,  -7.1461,  -4.6153,  -4.8304,  -3.9931,   1.9154,   7.9000,   4.5809, -13.6448,   7.7113],\n",
       "        [  6.3873, -11.1138, -16.3354,  -2.3152,  15.7239,  -4.1659,  14.1441,   3.6211,   4.4445,  11.0829],\n",
       "        [-10.4526, -10.5237,   1.7343, -19.2866,   7.7671,   7.6704,  18.9899,   2.8703,  -2.7446,   4.9299],\n",
       "        [  0.2623,  -5.6711,  -0.1749,   0.7750,  10.2444,  -8.9311,  13.1438,   1.5010,  15.5694,   0.5869],\n",
       "        [  6.3304,  -3.8711,  11.0098,  -7.3885,   7.6471,  10.7820,  -4.6661,  -7.3201,  -6.0965,  16.0183]], grad_fn=<AddBackward0>)"
      ]
     },
     "execution_count": 31,
     "metadata": {},
     "output_type": "execute_result"
    }
   ],
   "source": [
    "preds = linear1(train5samplesX)\n",
    "preds"
   ]
  },
  {
   "cell_type": "code",
   "execution_count": null,
   "id": "0a1b0fe4-65c8-495a-ac19-a4f33b782f74",
   "metadata": {},
   "outputs": [],
   "source": [
    "# lr = 0.02\n",
    "# for x,y in dl:\n",
    "#     pred = linear1(x)\n",
    "#     loss = cross_entropy_loss(pred, y)\n",
    "#     loss.backward()\n",
    "#     parameters -= parameters.grad * lr"
   ]
  },
  {
   "cell_type": "code",
   "execution_count": 32,
   "id": "c0f79002-abd6-4fff-9c64-eae1e369518d",
   "metadata": {},
   "outputs": [
    {
     "data": {
      "text/plain": [
       "(torch.Size([256, 784]), torch.Size([256, 10]))"
      ]
     },
     "execution_count": 32,
     "metadata": {},
     "output_type": "execute_result"
    }
   ],
   "source": [
    "dl = DataLoader(train_subset, batch_size=256)\n",
    "xb,yb = first(dl)\n",
    "xb.shape,yb.shape"
   ]
  },
  {
   "cell_type": "code",
   "execution_count": null,
   "id": "b63df223-5d3f-435c-9e52-d3e76636e2cd",
   "metadata": {},
   "outputs": [],
   "source": [
    "# weights = init_params((28*28,1))\n",
    "# bias = init_params(1)"
   ]
  },
  {
   "cell_type": "code",
   "execution_count": 33,
   "id": "8a9b574b-be15-405f-bd93-3b57de7f4d35",
   "metadata": {},
   "outputs": [],
   "source": [
    "valid_dl = DataLoader(val_subset, batch_size=256)"
   ]
  },
  {
   "cell_type": "code",
   "execution_count": 34,
   "id": "1f104131-4940-4b17-8a8e-af4d0696c8b5",
   "metadata": {},
   "outputs": [
    {
     "data": {
      "text/plain": [
       "torch.Size([8, 784])"
      ]
     },
     "execution_count": 34,
     "metadata": {},
     "output_type": "execute_result"
    }
   ],
   "source": [
    "batch = xb[:8]\n",
    "batch.shape"
   ]
  },
  {
   "cell_type": "code",
   "execution_count": 35,
   "id": "2970dc5f-05eb-4aa7-a521-eb8e4a6ce639",
   "metadata": {},
   "outputs": [
    {
     "data": {
      "text/plain": [
       "tensor([[ 13.7140,  -7.1461,  -4.6153,  -4.8304,  -3.9931,   1.9154,   7.9000,   4.5809, -13.6448,   7.7113],\n",
       "        [  6.3873, -11.1138, -16.3354,  -2.3152,  15.7239,  -4.1659,  14.1441,   3.6211,   4.4445,  11.0829],\n",
       "        [-10.4526, -10.5237,   1.7343, -19.2866,   7.7671,   7.6704,  18.9899,   2.8703,  -2.7446,   4.9299],\n",
       "        [  0.2623,  -5.6711,  -0.1749,   0.7750,  10.2444,  -8.9311,  13.1438,   1.5010,  15.5694,   0.5869],\n",
       "        [  6.3304,  -3.8711,  11.0098,  -7.3885,   7.6471,  10.7820,  -4.6661,  -7.3201,  -6.0965,  16.0183],\n",
       "        [  3.2634,  -4.7596,  -5.1665,  -3.5301,   4.4131,  -4.0056,   1.8292,  -4.3071,  -0.0903,  -4.5500],\n",
       "        [ -6.8297,  -8.0538,   6.8736,  10.1589,  12.7683,   4.9916,   3.7458,   9.0290,   8.4154,  16.6956],\n",
       "        [ -3.2268,  -7.8193,  -6.4320,   1.1249,   2.3179,  -5.9347,  -3.7483,  10.3284,   6.7205,   2.8247]], grad_fn=<AddBackward0>)"
      ]
     },
     "execution_count": 35,
     "metadata": {},
     "output_type": "execute_result"
    }
   ],
   "source": [
    "preds = linear1(batch)\n",
    "preds"
   ]
  },
  {
   "cell_type": "code",
   "execution_count": 38,
   "id": "733fa07e-68c8-4eff-8425-b6eea8681c2b",
   "metadata": {},
   "outputs": [
    {
     "ename": "IndexError",
     "evalue": "shape mismatch: indexing tensors could not be broadcast together with shapes [8], [4]",
     "output_type": "error",
     "traceback": [
      "\u001b[0;31m---------------------------------------------------------------------------\u001b[0m",
      "\u001b[0;31mIndexError\u001b[0m                                Traceback (most recent call last)",
      "Cell \u001b[0;32mIn[38], line 1\u001b[0m\n\u001b[0;32m----> 1\u001b[0m loss \u001b[38;5;241m=\u001b[39m cross_entropy_loss(preds, yb[:\u001b[38;5;241m4\u001b[39m])\n\u001b[1;32m      2\u001b[0m loss\n",
      "Cell \u001b[0;32mIn[23], line 10\u001b[0m, in \u001b[0;36mcross_entropy_loss\u001b[0;34m(outputs, labels)\u001b[0m\n\u001b[1;32m      7\u001b[0m outputs \u001b[38;5;241m=\u001b[39m F\u001b[38;5;241m.\u001b[39mlog_softmax(outputs, dim\u001b[38;5;241m=\u001b[39m\u001b[38;5;241m1\u001b[39m)\n\u001b[1;32m      9\u001b[0m \u001b[38;5;66;03m# Pick the values corresponding to the labels\u001b[39;00m\n\u001b[0;32m---> 10\u001b[0m outputs \u001b[38;5;241m=\u001b[39m outputs[\u001b[38;5;28mrange\u001b[39m(outputs\u001b[38;5;241m.\u001b[39mshape[\u001b[38;5;241m0\u001b[39m]), labels]\n\u001b[1;32m     11\u001b[0m \u001b[38;5;28;01mreturn\u001b[39;00m \u001b[38;5;241m-\u001b[39mtorch\u001b[38;5;241m.\u001b[39mmean(outputs)\n",
      "\u001b[0;31mIndexError\u001b[0m: shape mismatch: indexing tensors could not be broadcast together with shapes [8], [4]"
     ]
    }
   ],
   "source": [
    "loss = cross_entropy_loss(preds, yb[:4])\n",
    "loss"
   ]
  },
  {
   "cell_type": "code",
   "execution_count": null,
   "id": "1276951b-ab14-4bc5-a697-35b206356a19",
   "metadata": {},
   "outputs": [],
   "source": [
    "loss.backward()\n",
    "weights.grad.shape,weights.grad.mean(),bias.grad"
   ]
  },
  {
   "cell_type": "code",
   "execution_count": 36,
   "id": "d9d8ff27-b3d6-4738-9912-ed359320b573",
   "metadata": {},
   "outputs": [],
   "source": [
    "def calc_grad(xb, yb, model):\n",
    "    preds = model(xb)\n",
    "    loss = cross_entropy_loss(preds, yb)\n",
    "    loss.backward()"
   ]
  },
  {
   "cell_type": "code",
   "execution_count": 37,
   "id": "0170c2e4-d0c7-46b5-af17-4aee95364a74",
   "metadata": {},
   "outputs": [
    {
     "ename": "IndexError",
     "evalue": "shape mismatch: indexing tensors could not be broadcast together with shapes [8], [4]",
     "output_type": "error",
     "traceback": [
      "\u001b[0;31m---------------------------------------------------------------------------\u001b[0m",
      "\u001b[0;31mIndexError\u001b[0m                                Traceback (most recent call last)",
      "Cell \u001b[0;32mIn[37], line 1\u001b[0m\n\u001b[0;32m----> 1\u001b[0m calc_grad(batch, yb[:\u001b[38;5;241m4\u001b[39m], linear1)\n\u001b[1;32m      2\u001b[0m weights\u001b[38;5;241m.\u001b[39mgrad\u001b[38;5;241m.\u001b[39mmean(),bias\u001b[38;5;241m.\u001b[39mgrad\n",
      "Cell \u001b[0;32mIn[36], line 3\u001b[0m, in \u001b[0;36mcalc_grad\u001b[0;34m(xb, yb, model)\u001b[0m\n\u001b[1;32m      1\u001b[0m \u001b[38;5;28;01mdef\u001b[39;00m \u001b[38;5;21mcalc_grad\u001b[39m(xb, yb, model):\n\u001b[1;32m      2\u001b[0m     preds \u001b[38;5;241m=\u001b[39m model(xb)\n\u001b[0;32m----> 3\u001b[0m     loss \u001b[38;5;241m=\u001b[39m cross_entropy_loss(preds, yb)\n\u001b[1;32m      4\u001b[0m     loss\u001b[38;5;241m.\u001b[39mbackward()\n",
      "Cell \u001b[0;32mIn[23], line 10\u001b[0m, in \u001b[0;36mcross_entropy_loss\u001b[0;34m(outputs, labels)\u001b[0m\n\u001b[1;32m      7\u001b[0m outputs \u001b[38;5;241m=\u001b[39m F\u001b[38;5;241m.\u001b[39mlog_softmax(outputs, dim\u001b[38;5;241m=\u001b[39m\u001b[38;5;241m1\u001b[39m)\n\u001b[1;32m      9\u001b[0m \u001b[38;5;66;03m# Pick the values corresponding to the labels\u001b[39;00m\n\u001b[0;32m---> 10\u001b[0m outputs \u001b[38;5;241m=\u001b[39m outputs[\u001b[38;5;28mrange\u001b[39m(outputs\u001b[38;5;241m.\u001b[39mshape[\u001b[38;5;241m0\u001b[39m]), labels]\n\u001b[1;32m     11\u001b[0m \u001b[38;5;28;01mreturn\u001b[39;00m \u001b[38;5;241m-\u001b[39mtorch\u001b[38;5;241m.\u001b[39mmean(outputs)\n",
      "\u001b[0;31mIndexError\u001b[0m: shape mismatch: indexing tensors could not be broadcast together with shapes [8], [4]"
     ]
    }
   ],
   "source": [
    "calc_grad(batch, yb[:4], linear1)\n",
    "weights.grad.mean(),bias.grad"
   ]
  },
  {
   "cell_type": "code",
   "execution_count": 39,
   "id": "3ccbe3b6-eae7-4481-81eb-1d89f4eb6f1f",
   "metadata": {},
   "outputs": [],
   "source": [
    "def train_epoch(model, lr, params):\n",
    "    for xb,yb in dl:\n",
    "        calc_grad(xb, yb, model)\n",
    "        for p in params:\n",
    "            p.data -= p.grad*lr\n",
    "            p.grad.zero_()"
   ]
  },
  {
   "cell_type": "code",
   "execution_count": 40,
   "id": "e0bc0f50-d246-4cff-b945-2a9a35b3aebf",
   "metadata": {},
   "outputs": [],
   "source": [
    "def accuracy(preds, corrects):\n",
    "    predicted_classes = preds.argmax(dim=1)\n",
    "    correct_classes = corrects.argmax(dim=1)\n",
    "    torch.eq(predicted_classes, correct_classes)"
   ]
  },
  {
   "cell_type": "code",
   "execution_count": 41,
   "id": "6f50091c-c8f1-4a19-81b4-7915ac5acd89",
   "metadata": {},
   "outputs": [],
   "source": [
    "def batch_accuracy(xb, yb):\n",
    "    preds = xb.sigmoid()\n",
    "    predicted_classes = preds.argmax(dim=1)\n",
    "    correct_classes = yb.argmax(dim=1)\n",
    "    # print(predicted_classes, correct_classes)\n",
    "    correct = torch.eq(predicted_classes, correct_classes)\n",
    "    # print(correct)\n",
    "    return correct.float().mean()"
   ]
  },
  {
   "cell_type": "code",
   "execution_count": null,
   "id": "411301db-2c9a-432e-82bb-77564ec4d5bc",
   "metadata": {},
   "outputs": [],
   "source": [
    "batch_accuracy(linear1(batch), yb[:8])"
   ]
  },
  {
   "cell_type": "code",
   "execution_count": 42,
   "id": "3debddc6-6c74-4e4e-a080-dff44378c98f",
   "metadata": {},
   "outputs": [],
   "source": [
    "def validate_epoch(model):\n",
    "    accs = [batch_accuracy(model(xb), yb) for xb,yb in valid_dl]\n",
    "    return round(torch.stack(accs).mean().item(), 4)"
   ]
  },
  {
   "cell_type": "code",
   "execution_count": 43,
   "id": "30fa67de-48b7-4585-a04e-e7c45867a2a3",
   "metadata": {},
   "outputs": [],
   "source": [
    "lr = 1.\n",
    "params = weights,bias"
   ]
  },
  {
   "cell_type": "code",
   "execution_count": 44,
   "id": "b0c81080-19fd-42fd-95d4-7c05a1cf5a92",
   "metadata": {},
   "outputs": [
    {
     "data": {
      "text/plain": [
       "0.8015"
      ]
     },
     "execution_count": 44,
     "metadata": {},
     "output_type": "execute_result"
    }
   ],
   "source": [
    "train_epoch(linear1, lr, params)\n",
    "validate_epoch(linear1)"
   ]
  },
  {
   "cell_type": "code",
   "execution_count": 45,
   "id": "6483a2aa-de00-4115-b891-650469dc51e6",
   "metadata": {},
   "outputs": [
    {
     "name": "stdout",
     "output_type": "stream",
     "text": [
      "0.8317 0.8423 0.8522 0.8567 0.8622 0.8663 0.8686 0.8715 0.8729 0.8756 0.8768 0.878 0.8795 0.8809 0.8831 0.8832 0.8841 0.8854 0.887 0.8887 "
     ]
    }
   ],
   "source": [
    "for i in range(20):\n",
    "    train_epoch(linear1, lr, params)\n",
    "    print(validate_epoch(linear1), end=' ')"
   ]
  },
  {
   "cell_type": "markdown",
   "id": "0c459d74-3775-4837-9536-a4829760ea28",
   "metadata": {},
   "source": [
    "***Creating an Optimizer***"
   ]
  },
  {
   "cell_type": "code",
   "execution_count": 46,
   "id": "f21d5e43-f439-473e-94ec-02197c7a3ce4",
   "metadata": {},
   "outputs": [],
   "source": [
    "linear_model = nn.Linear(28*28,10)"
   ]
  },
  {
   "cell_type": "code",
   "execution_count": 47,
   "id": "f7f22c30-396d-4bdf-ad4f-e34cf1a7a660",
   "metadata": {},
   "outputs": [
    {
     "data": {
      "text/plain": [
       "(torch.Size([10, 784]), torch.Size([10]))"
      ]
     },
     "execution_count": 47,
     "metadata": {},
     "output_type": "execute_result"
    }
   ],
   "source": [
    "w,b = linear_model.parameters()\n",
    "w.shape,b.shape"
   ]
  },
  {
   "cell_type": "code",
   "execution_count": 48,
   "id": "9187d5a3-3aa0-46ae-bf37-263029ed9d7a",
   "metadata": {},
   "outputs": [],
   "source": [
    "class BasicOptim:\n",
    "    def __init__(self,params,lr): self.params,self.lr = list(params),lr\n",
    "\n",
    "    def step(self, *args, **kwargs):\n",
    "        for p in self.params: p.data -= p.grad.data * self.lr\n",
    "\n",
    "    def zero_grad(self, *args, **kwargs):\n",
    "        for p in self.params: p.grad = None"
   ]
  },
  {
   "cell_type": "code",
   "execution_count": 49,
   "id": "6de75428-00c1-4dbd-b4ed-62d3f9b03d73",
   "metadata": {},
   "outputs": [],
   "source": [
    "opt = BasicOptim(linear_model.parameters(), lr)"
   ]
  },
  {
   "cell_type": "code",
   "execution_count": 50,
   "id": "c48ce9fb-dc6b-45d9-a4d3-1d3ba204dede",
   "metadata": {},
   "outputs": [],
   "source": [
    "def train_epoch(model):\n",
    "    for xb,yb in dl:\n",
    "        calc_grad(xb, yb, model)\n",
    "        opt.step()\n",
    "        opt.zero_grad()"
   ]
  },
  {
   "cell_type": "code",
   "execution_count": 51,
   "id": "140bf9d7-c7cd-4a56-b83b-c40fdfc9270e",
   "metadata": {},
   "outputs": [
    {
     "data": {
      "text/plain": [
       "0.1211"
      ]
     },
     "execution_count": 51,
     "metadata": {},
     "output_type": "execute_result"
    }
   ],
   "source": [
    "validate_epoch(linear_model)"
   ]
  },
  {
   "cell_type": "code",
   "execution_count": 52,
   "id": "dd696154-94e2-43ee-8293-bffdbf23d274",
   "metadata": {},
   "outputs": [],
   "source": [
    "def train_model(model, epochs):\n",
    "    for i in range(epochs):\n",
    "        train_epoch(model)\n",
    "        print(validate_epoch(model), end=' ')"
   ]
  },
  {
   "cell_type": "code",
   "execution_count": 53,
   "id": "35a29a9e-f8cf-4377-a625-45424fe45009",
   "metadata": {},
   "outputs": [
    {
     "name": "stdout",
     "output_type": "stream",
     "text": [
      "0.8964 0.9043 0.9098 0.9112 0.912 0.9122 0.9128 0.9137 0.9146 0.9152 0.9157 0.9156 0.9158 0.9159 0.9166 0.9165 0.9168 0.9167 0.9163 0.9165 "
     ]
    }
   ],
   "source": [
    "train_model(linear_model, 20)"
   ]
  },
  {
   "cell_type": "code",
   "execution_count": 54,
   "id": "6db88a2a-28f6-4ced-baf6-dfc72488136f",
   "metadata": {},
   "outputs": [
    {
     "name": "stdout",
     "output_type": "stream",
     "text": [
      "0.8974 0.9054 0.9103 0.9111 0.9115 0.9115 0.9127 0.9137 0.9149 0.9157 0.9158 0.9158 0.9156 0.916 0.916 0.9162 0.9162 0.9161 0.9163 0.9159 "
     ]
    }
   ],
   "source": [
    "linear_model = nn.Linear(28*28,10)\n",
    "opt = SGD(linear_model.parameters(), lr)\n",
    "train_model(linear_model, 20)"
   ]
  },
  {
   "cell_type": "code",
   "execution_count": 55,
   "id": "3cb3ae6f-ff9e-4308-8480-5d76e619640a",
   "metadata": {},
   "outputs": [],
   "source": [
    "dls = DataLoaders(dl, valid_dl)"
   ]
  },
  {
   "cell_type": "code",
   "execution_count": 56,
   "id": "677cc7f5-8ee6-4511-815c-0b1910f0904c",
   "metadata": {},
   "outputs": [],
   "source": [
    "learn = Learner(dls, nn.Linear(28*28,10), opt_func=SGD,\n",
    "                loss_func=cross_entropy_loss, metrics=batch_accuracy)"
   ]
  },
  {
   "cell_type": "code",
   "execution_count": 57,
   "id": "ca5ef33c-9fbc-4a71-bb94-f80f79015cce",
   "metadata": {},
   "outputs": [
    {
     "data": {
      "text/html": [
       "\n",
       "<style>\n",
       "    /* Turns off some styling */\n",
       "    progress {\n",
       "        /* gets rid of default border in Firefox and Opera. */\n",
       "        border: none;\n",
       "        /* Needs to be in here for Safari polyfill so background images work as expected. */\n",
       "        background-size: auto;\n",
       "    }\n",
       "    progress:not([value]), progress:not([value])::-webkit-progress-bar {\n",
       "        background: repeating-linear-gradient(45deg, #7e7e7e, #7e7e7e 10px, #5c5c5c 10px, #5c5c5c 20px);\n",
       "    }\n",
       "    .progress-bar-interrupted, .progress-bar-interrupted::-webkit-progress-bar {\n",
       "        background: #F44336;\n",
       "    }\n",
       "</style>\n"
      ],
      "text/plain": [
       "<IPython.core.display.HTML object>"
      ]
     },
     "metadata": {},
     "output_type": "display_data"
    },
    {
     "data": {
      "text/html": [
       "<table border=\"1\" class=\"dataframe\">\n",
       "  <thead>\n",
       "    <tr style=\"text-align: left;\">\n",
       "      <th>epoch</th>\n",
       "      <th>train_loss</th>\n",
       "      <th>valid_loss</th>\n",
       "      <th>batch_accuracy</th>\n",
       "      <th>time</th>\n",
       "    </tr>\n",
       "  </thead>\n",
       "  <tbody>\n",
       "    <tr>\n",
       "      <td>0</td>\n",
       "      <td>0.363868</td>\n",
       "      <td>0.360689</td>\n",
       "      <td>0.898400</td>\n",
       "      <td>00:00</td>\n",
       "    </tr>\n",
       "    <tr>\n",
       "      <td>1</td>\n",
       "      <td>0.314931</td>\n",
       "      <td>0.335654</td>\n",
       "      <td>0.906800</td>\n",
       "      <td>00:00</td>\n",
       "    </tr>\n",
       "    <tr>\n",
       "      <td>2</td>\n",
       "      <td>0.299560</td>\n",
       "      <td>0.324676</td>\n",
       "      <td>0.910900</td>\n",
       "      <td>00:00</td>\n",
       "    </tr>\n",
       "    <tr>\n",
       "      <td>3</td>\n",
       "      <td>0.290919</td>\n",
       "      <td>0.318396</td>\n",
       "      <td>0.911500</td>\n",
       "      <td>00:00</td>\n",
       "    </tr>\n",
       "    <tr>\n",
       "      <td>4</td>\n",
       "      <td>0.285035</td>\n",
       "      <td>0.314316</td>\n",
       "      <td>0.912300</td>\n",
       "      <td>00:00</td>\n",
       "    </tr>\n",
       "    <tr>\n",
       "      <td>5</td>\n",
       "      <td>0.280638</td>\n",
       "      <td>0.311462</td>\n",
       "      <td>0.912700</td>\n",
       "      <td>00:00</td>\n",
       "    </tr>\n",
       "    <tr>\n",
       "      <td>6</td>\n",
       "      <td>0.277159</td>\n",
       "      <td>0.309367</td>\n",
       "      <td>0.913900</td>\n",
       "      <td>00:00</td>\n",
       "    </tr>\n",
       "    <tr>\n",
       "      <td>7</td>\n",
       "      <td>0.274299</td>\n",
       "      <td>0.307777</td>\n",
       "      <td>0.914900</td>\n",
       "      <td>00:00</td>\n",
       "    </tr>\n",
       "    <tr>\n",
       "      <td>8</td>\n",
       "      <td>0.271882</td>\n",
       "      <td>0.306539</td>\n",
       "      <td>0.916000</td>\n",
       "      <td>00:00</td>\n",
       "    </tr>\n",
       "    <tr>\n",
       "      <td>9</td>\n",
       "      <td>0.269795</td>\n",
       "      <td>0.305558</td>\n",
       "      <td>0.916300</td>\n",
       "      <td>00:00</td>\n",
       "    </tr>\n",
       "  </tbody>\n",
       "</table>"
      ],
      "text/plain": [
       "<IPython.core.display.HTML object>"
      ]
     },
     "metadata": {},
     "output_type": "display_data"
    }
   ],
   "source": [
    "learn.fit(10, lr=lr)"
   ]
  },
  {
   "cell_type": "markdown",
   "id": "fc9e14ca-415c-4ffa-bcf2-907619bdf1f1",
   "metadata": {},
   "source": [
    "***Adding a Nonlinearity***"
   ]
  },
  {
   "cell_type": "code",
   "execution_count": 58,
   "id": "01d3d3d3-99c4-4c15-90ab-23dfbbbc6abe",
   "metadata": {},
   "outputs": [],
   "source": [
    "def simple_net(xb): \n",
    "    res = xb@w1 + b1\n",
    "    res = res.max(tensor(0.0))\n",
    "    res = res@w2 + b2\n",
    "    return res"
   ]
  },
  {
   "cell_type": "code",
   "execution_count": 59,
   "id": "30b28a7c-5179-46fb-98fc-8abffaa6250a",
   "metadata": {},
   "outputs": [],
   "source": [
    "w1 = init_params((28*28,30))\n",
    "b1 = init_params(30)\n",
    "w2 = init_params((30,10))\n",
    "b2 = init_params(10)"
   ]
  },
  {
   "cell_type": "code",
   "execution_count": 60,
   "id": "640c0ebe-7630-4e4a-8be2-57bffc95a2f0",
   "metadata": {},
   "outputs": [],
   "source": [
    "simple_net = nn.Sequential(\n",
    "    nn.Linear(28*28,30),\n",
    "    nn.ReLU(),\n",
    "    nn.Linear(30,10)\n",
    ")"
   ]
  },
  {
   "cell_type": "code",
   "execution_count": 61,
   "id": "dae910f8-a967-45ef-b4c9-76029ab7551a",
   "metadata": {},
   "outputs": [],
   "source": [
    "learn = Learner(dls, simple_net, opt_func=SGD,\n",
    "                loss_func=cross_entropy_loss, metrics=batch_accuracy)"
   ]
  },
  {
   "cell_type": "code",
   "execution_count": 62,
   "id": "473fbc60-6f43-4d7a-86c1-9ef92e052a66",
   "metadata": {},
   "outputs": [
    {
     "data": {
      "text/html": [
       "\n",
       "<style>\n",
       "    /* Turns off some styling */\n",
       "    progress {\n",
       "        /* gets rid of default border in Firefox and Opera. */\n",
       "        border: none;\n",
       "        /* Needs to be in here for Safari polyfill so background images work as expected. */\n",
       "        background-size: auto;\n",
       "    }\n",
       "    progress:not([value]), progress:not([value])::-webkit-progress-bar {\n",
       "        background: repeating-linear-gradient(45deg, #7e7e7e, #7e7e7e 10px, #5c5c5c 10px, #5c5c5c 20px);\n",
       "    }\n",
       "    .progress-bar-interrupted, .progress-bar-interrupted::-webkit-progress-bar {\n",
       "        background: #F44336;\n",
       "    }\n",
       "</style>\n"
      ],
      "text/plain": [
       "<IPython.core.display.HTML object>"
      ]
     },
     "metadata": {},
     "output_type": "display_data"
    },
    {
     "data": {
      "text/html": [
       "<table border=\"1\" class=\"dataframe\">\n",
       "  <thead>\n",
       "    <tr style=\"text-align: left;\">\n",
       "      <th>epoch</th>\n",
       "      <th>train_loss</th>\n",
       "      <th>valid_loss</th>\n",
       "      <th>batch_accuracy</th>\n",
       "      <th>time</th>\n",
       "    </tr>\n",
       "  </thead>\n",
       "  <tbody>\n",
       "    <tr>\n",
       "      <td>0</td>\n",
       "      <td>0.556007</td>\n",
       "      <td>0.449189</td>\n",
       "      <td>0.879400</td>\n",
       "      <td>00:00</td>\n",
       "    </tr>\n",
       "    <tr>\n",
       "      <td>1</td>\n",
       "      <td>0.361340</td>\n",
       "      <td>0.360914</td>\n",
       "      <td>0.899300</td>\n",
       "      <td>00:00</td>\n",
       "    </tr>\n",
       "    <tr>\n",
       "      <td>2</td>\n",
       "      <td>0.316797</td>\n",
       "      <td>0.329694</td>\n",
       "      <td>0.909000</td>\n",
       "      <td>00:00</td>\n",
       "    </tr>\n",
       "    <tr>\n",
       "      <td>3</td>\n",
       "      <td>0.292306</td>\n",
       "      <td>0.309405</td>\n",
       "      <td>0.914600</td>\n",
       "      <td>00:00</td>\n",
       "    </tr>\n",
       "    <tr>\n",
       "      <td>4</td>\n",
       "      <td>0.273474</td>\n",
       "      <td>0.291876</td>\n",
       "      <td>0.919300</td>\n",
       "      <td>00:00</td>\n",
       "    </tr>\n",
       "    <tr>\n",
       "      <td>5</td>\n",
       "      <td>0.257340</td>\n",
       "      <td>0.276457</td>\n",
       "      <td>0.923500</td>\n",
       "      <td>00:00</td>\n",
       "    </tr>\n",
       "    <tr>\n",
       "      <td>6</td>\n",
       "      <td>0.243743</td>\n",
       "      <td>0.263445</td>\n",
       "      <td>0.926100</td>\n",
       "      <td>00:00</td>\n",
       "    </tr>\n",
       "    <tr>\n",
       "      <td>7</td>\n",
       "      <td>0.232303</td>\n",
       "      <td>0.252475</td>\n",
       "      <td>0.929200</td>\n",
       "      <td>00:00</td>\n",
       "    </tr>\n",
       "    <tr>\n",
       "      <td>8</td>\n",
       "      <td>0.222193</td>\n",
       "      <td>0.242489</td>\n",
       "      <td>0.932500</td>\n",
       "      <td>00:00</td>\n",
       "    </tr>\n",
       "    <tr>\n",
       "      <td>9</td>\n",
       "      <td>0.213138</td>\n",
       "      <td>0.233997</td>\n",
       "      <td>0.933700</td>\n",
       "      <td>00:00</td>\n",
       "    </tr>\n",
       "    <tr>\n",
       "      <td>10</td>\n",
       "      <td>0.204765</td>\n",
       "      <td>0.225989</td>\n",
       "      <td>0.936700</td>\n",
       "      <td>00:00</td>\n",
       "    </tr>\n",
       "    <tr>\n",
       "      <td>11</td>\n",
       "      <td>0.196987</td>\n",
       "      <td>0.219189</td>\n",
       "      <td>0.938300</td>\n",
       "      <td>00:00</td>\n",
       "    </tr>\n",
       "    <tr>\n",
       "      <td>12</td>\n",
       "      <td>0.189904</td>\n",
       "      <td>0.212738</td>\n",
       "      <td>0.939800</td>\n",
       "      <td>00:00</td>\n",
       "    </tr>\n",
       "    <tr>\n",
       "      <td>13</td>\n",
       "      <td>0.183352</td>\n",
       "      <td>0.206827</td>\n",
       "      <td>0.942200</td>\n",
       "      <td>00:00</td>\n",
       "    </tr>\n",
       "    <tr>\n",
       "      <td>14</td>\n",
       "      <td>0.177203</td>\n",
       "      <td>0.201526</td>\n",
       "      <td>0.943700</td>\n",
       "      <td>00:00</td>\n",
       "    </tr>\n",
       "    <tr>\n",
       "      <td>15</td>\n",
       "      <td>0.171563</td>\n",
       "      <td>0.196611</td>\n",
       "      <td>0.945500</td>\n",
       "      <td>00:00</td>\n",
       "    </tr>\n",
       "    <tr>\n",
       "      <td>16</td>\n",
       "      <td>0.166291</td>\n",
       "      <td>0.192364</td>\n",
       "      <td>0.946800</td>\n",
       "      <td>00:00</td>\n",
       "    </tr>\n",
       "    <tr>\n",
       "      <td>17</td>\n",
       "      <td>0.161337</td>\n",
       "      <td>0.188380</td>\n",
       "      <td>0.948600</td>\n",
       "      <td>00:00</td>\n",
       "    </tr>\n",
       "    <tr>\n",
       "      <td>18</td>\n",
       "      <td>0.156706</td>\n",
       "      <td>0.184667</td>\n",
       "      <td>0.949300</td>\n",
       "      <td>00:00</td>\n",
       "    </tr>\n",
       "    <tr>\n",
       "      <td>19</td>\n",
       "      <td>0.152357</td>\n",
       "      <td>0.181432</td>\n",
       "      <td>0.950000</td>\n",
       "      <td>00:00</td>\n",
       "    </tr>\n",
       "    <tr>\n",
       "      <td>20</td>\n",
       "      <td>0.148311</td>\n",
       "      <td>0.178344</td>\n",
       "      <td>0.951000</td>\n",
       "      <td>00:00</td>\n",
       "    </tr>\n",
       "    <tr>\n",
       "      <td>21</td>\n",
       "      <td>0.144488</td>\n",
       "      <td>0.175666</td>\n",
       "      <td>0.951300</td>\n",
       "      <td>00:00</td>\n",
       "    </tr>\n",
       "    <tr>\n",
       "      <td>22</td>\n",
       "      <td>0.140950</td>\n",
       "      <td>0.173328</td>\n",
       "      <td>0.952200</td>\n",
       "      <td>00:00</td>\n",
       "    </tr>\n",
       "    <tr>\n",
       "      <td>23</td>\n",
       "      <td>0.137572</td>\n",
       "      <td>0.171071</td>\n",
       "      <td>0.952100</td>\n",
       "      <td>00:00</td>\n",
       "    </tr>\n",
       "    <tr>\n",
       "      <td>24</td>\n",
       "      <td>0.134378</td>\n",
       "      <td>0.168923</td>\n",
       "      <td>0.952300</td>\n",
       "      <td>00:00</td>\n",
       "    </tr>\n",
       "    <tr>\n",
       "      <td>25</td>\n",
       "      <td>0.131316</td>\n",
       "      <td>0.166945</td>\n",
       "      <td>0.952300</td>\n",
       "      <td>00:00</td>\n",
       "    </tr>\n",
       "    <tr>\n",
       "      <td>26</td>\n",
       "      <td>0.128366</td>\n",
       "      <td>0.165213</td>\n",
       "      <td>0.953100</td>\n",
       "      <td>00:00</td>\n",
       "    </tr>\n",
       "    <tr>\n",
       "      <td>27</td>\n",
       "      <td>0.125545</td>\n",
       "      <td>0.163593</td>\n",
       "      <td>0.953500</td>\n",
       "      <td>00:00</td>\n",
       "    </tr>\n",
       "    <tr>\n",
       "      <td>28</td>\n",
       "      <td>0.122880</td>\n",
       "      <td>0.162235</td>\n",
       "      <td>0.953300</td>\n",
       "      <td>00:00</td>\n",
       "    </tr>\n",
       "    <tr>\n",
       "      <td>29</td>\n",
       "      <td>0.120294</td>\n",
       "      <td>0.160753</td>\n",
       "      <td>0.953700</td>\n",
       "      <td>00:00</td>\n",
       "    </tr>\n",
       "    <tr>\n",
       "      <td>30</td>\n",
       "      <td>0.117807</td>\n",
       "      <td>0.159426</td>\n",
       "      <td>0.954200</td>\n",
       "      <td>00:00</td>\n",
       "    </tr>\n",
       "    <tr>\n",
       "      <td>31</td>\n",
       "      <td>0.115460</td>\n",
       "      <td>0.158135</td>\n",
       "      <td>0.954600</td>\n",
       "      <td>00:00</td>\n",
       "    </tr>\n",
       "    <tr>\n",
       "      <td>32</td>\n",
       "      <td>0.113182</td>\n",
       "      <td>0.156886</td>\n",
       "      <td>0.954900</td>\n",
       "      <td>00:00</td>\n",
       "    </tr>\n",
       "    <tr>\n",
       "      <td>33</td>\n",
       "      <td>0.110990</td>\n",
       "      <td>0.155647</td>\n",
       "      <td>0.955400</td>\n",
       "      <td>00:00</td>\n",
       "    </tr>\n",
       "    <tr>\n",
       "      <td>34</td>\n",
       "      <td>0.108870</td>\n",
       "      <td>0.154438</td>\n",
       "      <td>0.955300</td>\n",
       "      <td>00:00</td>\n",
       "    </tr>\n",
       "    <tr>\n",
       "      <td>35</td>\n",
       "      <td>0.106812</td>\n",
       "      <td>0.153352</td>\n",
       "      <td>0.955400</td>\n",
       "      <td>00:00</td>\n",
       "    </tr>\n",
       "    <tr>\n",
       "      <td>36</td>\n",
       "      <td>0.104864</td>\n",
       "      <td>0.152346</td>\n",
       "      <td>0.955700</td>\n",
       "      <td>00:00</td>\n",
       "    </tr>\n",
       "    <tr>\n",
       "      <td>37</td>\n",
       "      <td>0.102985</td>\n",
       "      <td>0.151385</td>\n",
       "      <td>0.956000</td>\n",
       "      <td>00:00</td>\n",
       "    </tr>\n",
       "    <tr>\n",
       "      <td>38</td>\n",
       "      <td>0.101173</td>\n",
       "      <td>0.150555</td>\n",
       "      <td>0.956000</td>\n",
       "      <td>00:00</td>\n",
       "    </tr>\n",
       "    <tr>\n",
       "      <td>39</td>\n",
       "      <td>0.099424</td>\n",
       "      <td>0.149660</td>\n",
       "      <td>0.956100</td>\n",
       "      <td>00:00</td>\n",
       "    </tr>\n",
       "  </tbody>\n",
       "</table>"
      ],
      "text/plain": [
       "<IPython.core.display.HTML object>"
      ]
     },
     "metadata": {},
     "output_type": "display_data"
    }
   ],
   "source": [
    "learn.fit(40, 0.1)"
   ]
  },
  {
   "cell_type": "code",
   "execution_count": 63,
   "id": "5f725d1d-e628-4cd9-99d0-d7a68ee1eda5",
   "metadata": {},
   "outputs": [
    {
     "data": {
      "image/png": "[encoded data removed]",
      "text/plain": [
       "<Figure size 640x480 with 1 Axes>"
      ]
     },
     "metadata": {},
     "output_type": "display_data"
    }
   ],
   "source": [
    "plt.plot(L(learn.recorder.values).itemgot(2));"
   ]
  },
  {
   "cell_type": "code",
   "execution_count": 64,
   "id": "f9e5ec8b-56b8-4a07-8714-cb999251fa00",
   "metadata": {},
   "outputs": [
    {
     "data": {
      "text/plain": [
       "0.9560999870300293"
      ]
     },
     "execution_count": 64,
     "metadata": {},
     "output_type": "execute_result"
    }
   ],
   "source": [
    "learn.recorder.values[-1][2]"
   ]
  },
  {
   "cell_type": "markdown",
   "id": "c663f00d-3ec7-4310-b2e4-3c5e0eac5028",
   "metadata": {},
   "source": [
    "***Test a model***"
   ]
  },
  {
   "cell_type": "code",
   "execution_count": 73,
   "id": "2051a69a-e269-4b22-8116-72b00c716fba",
   "metadata": {},
   "outputs": [],
   "source": [
    "testimg = (path/'/home/ilua/.fastai/data/mnist_png/testing/2').ls().sorted()"
   ]
  },
  {
   "cell_type": "code",
   "execution_count": 74,
   "id": "80e6945e-b34c-4872-a814-4625ab6433f9",
   "metadata": {},
   "outputs": [
    {
     "data": {
      "text/plain": [
       "(#1032) [Path('/home/ilua/.fastai/data/mnist_png/testing/2/1.png'),Path('/home/ilua/.fastai/data/mnist_png/testing/2/1002.png'),Path('/home/ilua/.fastai/data/mnist_png/testing/2/1016.png'),Path('/home/ilua/.fastai/data/mnist_png/testing/2/1031.png'),Path('/home/ilua/.fastai/data/mnist_png/testing/2/1036.png'),Path('/home/ilua/.fastai/data/mnist_png/testing/2/1049.png'),Path('/home/ilua/.fastai/data/mnist_png/testing/2/1050.png'),Path('/home/ilua/.fastai/data/mnist_png/testing/2/1053.png'),Path('/home/ilua/.fastai/data/mnist_png/testing/2/1056.png'),Path('/home/ilua/.fastai/data/mnist_png/testing/2/106.png')...]"
      ]
     },
     "execution_count": 74,
     "metadata": {},
     "output_type": "execute_result"
    }
   ],
   "source": [
    "testimg"
   ]
  },
  {
   "cell_type": "code",
   "execution_count": 75,
   "id": "96af7ec9-cb32-48a7-a484-4f15535c46fa",
   "metadata": {},
   "outputs": [
    {
     "data": {
      "image/jpeg": "[encoded data removed]",
      "image/png": "[encoded data removed]",
      "text/plain": [
       "<PIL.PngImagePlugin.PngImageFile image mode=L size=28x28>"
      ]
     },
     "execution_count": 75,
     "metadata": {},
     "output_type": "execute_result"
    }
   ],
   "source": [
    "img = testimg[3]\n",
    "im3 = Image.open(img)\n",
    "im3"
   ]
  },
  {
   "cell_type": "code",
   "execution_count": 76,
   "id": "9dc97a93-db7b-4cb1-8de2-09a84811b458",
   "metadata": {},
   "outputs": [],
   "source": [
    "im3array = tensor(im3)"
   ]
  },
  {
   "cell_type": "code",
   "execution_count": 77,
   "id": "94477b7d-f633-458e-ab04-c27b67c00fda",
   "metadata": {},
   "outputs": [
    {
     "data": {
      "text/plain": [
       "torch.Size([784])"
      ]
     },
     "execution_count": 77,
     "metadata": {},
     "output_type": "execute_result"
    }
   ],
   "source": [
    "item = im3array.view(28*28)\n",
    "item.shape"
   ]
  },
  {
   "cell_type": "code",
   "execution_count": 78,
   "id": "f2fa779e-ac30-45a8-a0f3-2191c27e3a4c",
   "metadata": {},
   "outputs": [],
   "source": [
    "out = simple_net(item.float())"
   ]
  },
  {
   "cell_type": "code",
   "execution_count": 79,
   "id": "ac53983c-6421-445d-823d-ad0a901cddf4",
   "metadata": {},
   "outputs": [],
   "source": [
    "predicted_class = torch.argmax(out)"
   ]
  },
  {
   "cell_type": "code",
   "execution_count": 80,
   "id": "5ef2636e-e749-4973-a403-80285273fc1f",
   "metadata": {},
   "outputs": [
    {
     "data": {
      "text/plain": [
       "tensor(2)"
      ]
     },
     "execution_count": 80,
     "metadata": {},
     "output_type": "execute_result"
    }
   ],
   "source": [
    "predicted_class"
   ]
  },
  {
   "cell_type": "code",
   "execution_count": 81,
   "id": "047bc6cd-caaf-4f75-b40f-c28414fe234b",
   "metadata": {},
   "outputs": [
    {
     "data": {
      "image/jpeg": "[encoded data removed]",
      "image/png": "[encoded data removed]",
      "text/plain": [
       "<PIL.PngImagePlugin.PngImageFile image mode=L size=28x28>"
      ]
     },
     "metadata": {},
     "output_type": "display_data"
    },
    {
     "data": {
      "text/plain": [
       "tensor(8)"
      ]
     },
     "execution_count": 81,
     "metadata": {},
     "output_type": "execute_result"
    }
   ],
   "source": [
    "img = (path/'/home/ilua/.fastai/data/mnist_png/testing/8').ls()[66]\n",
    "im3 = Image.open(img)\n",
    "display(im3)\n",
    "item = tensor(im3).view(28*28)\n",
    "predicted_class = torch.argmax(simple_net(item.float()))\n",
    "predicted_class"
   ]
  },
  {
   "cell_type": "code",
   "execution_count": 96,
   "id": "0cc408a1-c70d-454f-b88e-88921c248693",
   "metadata": {},
   "outputs": [
    {
     "data": {
      "image/jpeg": "[encoded data removed]",
      "image/png": "[encoded data removed]",
      "text/plain": [
       "<PIL.PngImagePlugin.PngImageFile image mode=L size=28x28>"
      ]
     },
     "metadata": {},
     "output_type": "display_data"
    },
    {
     "name": "stdout",
     "output_type": "stream",
     "text": [
      "tensor(0)\n"
     ]
    },
    {
     "data": {
      "image/jpeg": "[encoded data removed]",
      "image/png": "[encoded data removed]",
      "text/plain": [
       "<PIL.PngImagePlugin.PngImageFile image mode=L size=28x28>"
      ]
     },
     "metadata": {},
     "output_type": "display_data"
    },
    {
     "name": "stdout",
     "output_type": "stream",
     "text": [
      "tensor(1)\n"
     ]
    },
    {
     "data": {
      "image/jpeg": "[encoded data removed]",
      "image/png": "[encoded data removed]",
      "text/plain": [
       "<PIL.PngImagePlugin.PngImageFile image mode=L size=28x28>"
      ]
     },
     "metadata": {},
     "output_type": "display_data"
    },
    {
     "name": "stdout",
     "output_type": "stream",
     "text": [
      "tensor(2)\n"
     ]
    },
    {
     "data": {
      "image/jpeg": "[encoded data removed]",
      "image/png": "[encoded data removed]",
      "text/plain": [
       "<PIL.PngImagePlugin.PngImageFile image mode=L size=28x28>"
      ]
     },
     "metadata": {},
     "output_type": "display_data"
    },
    {
     "name": "stdout",
     "output_type": "stream",
     "text": [
      "tensor(3)\n"
     ]
    },
    {
     "data": {
      "image/jpeg": "[encoded data removed]",
      "image/png": "[encoded data removed]",
      "text/plain": [
       "<PIL.PngImagePlugin.PngImageFile image mode=L size=28x28>"
      ]
     },
     "metadata": {},
     "output_type": "display_data"
    },
    {
     "name": "stdout",
     "output_type": "stream",
     "text": [
      "tensor(4)\n"
     ]
    },
    {
     "data": {
      "image/jpeg": "[encoded data removed]",
      "image/png": "[encoded data removed]",
      "text/plain": [
       "<PIL.PngImagePlugin.PngImageFile image mode=L size=28x28>"
      ]
     },
     "metadata": {},
     "output_type": "display_data"
    },
    {
     "name": "stdout",
     "output_type": "stream",
     "text": [
      "tensor(5)\n"
     ]
    },
    {
     "data": {
      "image/jpeg": "[encoded data removed]",
      "image/png": "[encoded data removed]",
      "text/plain": [
       "<PIL.PngImagePlugin.PngImageFile image mode=L size=28x28>"
      ]
     },
     "metadata": {},
     "output_type": "display_data"
    },
    {
     "name": "stdout",
     "output_type": "stream",
     "text": [
      "tensor(6)\n"
     ]
    },
    {
     "data": {
      "image/jpeg": "[encoded data removed]",
      "image/png": "[encoded data removed]",
      "text/plain": [
       "<PIL.PngImagePlugin.PngImageFile image mode=L size=28x28>"
      ]
     },
     "metadata": {},
     "output_type": "display_data"
    },
    {
     "name": "stdout",
     "output_type": "stream",
     "text": [
      "tensor(7)\n"
     ]
    },
    {
     "data": {
      "image/jpeg": "[encoded data removed]",
      "image/png": "[encoded data removed]",
      "text/plain": [
       "<PIL.PngImagePlugin.PngImageFile image mode=L size=28x28>"
      ]
     },
     "metadata": {},
     "output_type": "display_data"
    },
    {
     "name": "stdout",
     "output_type": "stream",
     "text": [
      "tensor(8)\n"
     ]
    },
    {
     "data": {
      "image/jpeg": "[encoded data removed]",
      "image/png": "[encoded data removed]",
      "text/plain": [
       "<PIL.PngImagePlugin.PngImageFile image mode=L size=28x28>"
      ]
     },
     "metadata": {},
     "output_type": "display_data"
    },
    {
     "name": "stdout",
     "output_type": "stream",
     "text": [
      "tensor(0)\n"
     ]
    },
    {
     "data": {
      "image/jpeg": "[encoded data removed]",
      "image/png": "[encoded data removed]",
      "text/plain": [
       "<PIL.PngImagePlugin.PngImageFile image mode=L size=28x28>"
      ]
     },
     "metadata": {},
     "output_type": "display_data"
    },
    {
     "name": "stdout",
     "output_type": "stream",
     "text": [
      "tensor(1)\n"
     ]
    },
    {
     "data": {
      "image/jpeg": "[encoded data removed]",
      "image/png": "[encoded data removed]",
      "text/plain": [
       "<PIL.PngImagePlugin.PngImageFile image mode=L size=28x28>"
      ]
     },
     "metadata": {},
     "output_type": "display_data"
    },
    {
     "name": "stdout",
     "output_type": "stream",
     "text": [
      "tensor(2)\n"
     ]
    }
   ],
   "source": [
    "from random import random\n",
    "for sample in range(12):\n",
    "    sample = int(sample%9)\n",
    "    img = (path/'/home/ilua/.fastai/data/mnist_png/testing/{}'.format(sample)).ls()[int(random()*100)]\n",
    "    im3 = Image.open(img)\n",
    "    display(im3)\n",
    "    item = tensor(im3).view(28*28)\n",
    "    predicted_class = torch.argmax(simple_net(item.float()))\n",
    "    print(predicted_class)"
   ]
  },
  {
   "cell_type": "markdown",
   "id": "ac6134eb-2172-4fbd-811c-632f66c81633",
   "metadata": {},
   "source": [
    "***Making a Confusion matrix***"
   ]
  },
  {
   "cell_type": "code",
   "execution_count": 86,
   "id": "8233b4da-6814-49af-9c0a-3a8dd3d99433",
   "metadata": {},
   "outputs": [
    {
     "name": "stdout",
     "output_type": "stream",
     "text": [
      "train_x.shape :  torch.Size([10000, 784])\n",
      "train_y.shape :  torch.Size([10000])\n"
     ]
    }
   ],
   "source": [
    "for number in range(num_numbers):\n",
    "    image_array = (path/'/home/ilua/.fastai/data/mnist_png/testing/{}'.format(number)).ls().sorted()\n",
    "    current_tensor = [tensor(Image.open(o)) for o in image_array]\n",
    "    test_x_one = torch.stack(current_tensor).float()/255\n",
    "    test_y_one = tensor([number]*test_x_one.size(dim=0))\n",
    "    if number == 0:\n",
    "        test_x = test_x_one\n",
    "        test_y = test_y_one\n",
    "    else:\n",
    "        test_x = torch.cat([test_x, test_x_one])\n",
    "        test_y  = torch.cat([test_y, test_y_one])\n",
    "test_x = test_x.view(-1, 28*28) \n",
    "print('train_x.shape : ',test_x.shape)\n",
    "print('train_y.shape : ',test_y.shape)\n",
    "# test_y_onehot = torch.nn.functional.one_hot(test_y, num_classes=10) //shouldn't be One-hot for testing\n",
    "# print(test_y_onehot)\n",
    "# print(test_y_onehot.shape)"
   ]
  },
  {
   "cell_type": "code",
   "execution_count": 87,
   "id": "d9296cdf-407c-40c1-bba0-2ae04c82fe69",
   "metadata": {},
   "outputs": [
    {
     "data": {
      "text/plain": [
       "(torch.Size([784]), tensor([1, 0, 0, 0, 0, 0, 0, 0, 0, 0]))"
      ]
     },
     "execution_count": 87,
     "metadata": {},
     "output_type": "execute_result"
    }
   ],
   "source": [
    "dsettest = list(zip(test_x, test_y))\n",
    "x,y = dset[5000]\n",
    "x.shape,y"
   ]
  },
  {
   "cell_type": "code",
   "execution_count": 88,
   "id": "bf8e43bf-1d6f-4296-b454-0b6ad6438bb0",
   "metadata": {},
   "outputs": [],
   "source": [
    "dltest = DataLoader(dsettest, batch_size=256)"
   ]
  },
  {
   "cell_type": "code",
   "execution_count": 89,
   "id": "502cdd90-b3a5-4599-930b-e8c4971f6744",
   "metadata": {},
   "outputs": [
    {
     "name": "stdout",
     "output_type": "stream",
     "text": [
      "[[ 964    0    0    2    1    3    7    1    2    0]\n",
      " [   0 1118    5    1    0    1    2    2    6    0]\n",
      " [   5    1  985    5    5    3    6    7   15    0]\n",
      " [   0    2   17  948    0   14    1   11   15    2]\n",
      " [   1    0    3    0  955    1    8    2    2   10]\n",
      " [   2    0    2    7    2  853    9    1   11    5]\n",
      " [   7    3    3    1    4    6  928    0    6    0]\n",
      " [   1    5   13    3    2    2    0  994    2    6]\n",
      " [   2    2    4    9    4    5    5    6  935    2]\n",
      " [   6    6    0    7   26    6    2    9    9  938]]\n"
     ]
    }
   ],
   "source": [
    "from sklearn.metrics import confusion_matrix\n",
    "model = simple_net\n",
    "# Assume 'model' is your trained model and 'test_loader' is your DataLoader for test data\n",
    "# Get all the predictions for the test data\n",
    "all_preds = []\n",
    "all_labels = []\n",
    "for images, labels in dltest:\n",
    "    preds = model(images)\n",
    "    # print(preds)\n",
    "    all_preds.append(preds.argmax(dim=1).numpy())\n",
    "    all_labels.append(labels.numpy())\n",
    "\n",
    "# Flatten the list of predictions and labels\n",
    "all_preds = np.concatenate(all_preds)\n",
    "all_labels = np.concatenate(all_labels)\n",
    "\n",
    "# Compute the confusion matrix\n",
    "conf_mat = confusion_matrix(all_labels, all_preds)\n",
    "print(conf_mat)"
   ]
  },
  {
   "cell_type": "code",
   "execution_count": null,
   "id": "6414f84b-11bd-4a51-b6af-5d84f3e7cf79",
   "metadata": {},
   "outputs": [],
   "source": []
  }
 ],
 "metadata": {
  "kernelspec": {
   "display_name": "Python 3 (ipykernel)",
   "language": "python",
   "name": "python3"
  },
  "language_info": {
   "codemirror_mode": {
    "name": "ipython",
    "version": 3
   },
   "file_extension": ".py",
   "mimetype": "text/x-python",
   "name": "python",
   "nbconvert_exporter": "python",
   "pygments_lexer": "ipython3",
   "version": "3.11.5"
  }
 },
 "nbformat": 4,
 "nbformat_minor": 5
}
