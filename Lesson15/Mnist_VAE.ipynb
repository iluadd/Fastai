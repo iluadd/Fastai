{
 "cells": [
  {
   "cell_type": "code",
   "execution_count": 2,
   "metadata": {},
   "outputs": [],
   "source": [
    "import torch\n",
    "import torchvision as tv\n",
    "import torchvision.transforms as transforms\n",
    "import torch.nn as nn\n",
    "import torch.nn.functional as F\n",
    "from torch.autograd import Variable\n",
    "from torchvision.utils import save_image\n",
    "import matplotlib.pyplot as plt\n",
    "import numpy as np"
   ]
  },
  {
   "cell_type": "code",
   "execution_count": 3,
   "metadata": {},
   "outputs": [],
   "source": [
    "from fastai.vision.all import *\n",
    "import torch.nn as nn\n",
    "import torch.nn.functional as F"
   ]
  },
  {
   "cell_type": "code",
   "execution_count": 4,
   "metadata": {},
   "outputs": [],
   "source": [
    "# Device configuration\n",
    "device = torch.device('cuda' if torch.cuda.is_available() else 'cpu')"
   ]
  },
  {
   "cell_type": "code",
   "execution_count": 5,
   "metadata": {},
   "outputs": [],
   "source": [
    "transform = transforms.Compose([transforms.ToTensor(), transforms.Normalize((0.1307,), (0.3081,))])\n",
    "trainTransform  = tv.transforms.Compose([tv.transforms.ToTensor(), tv.transforms.Normalize((0.1307,), (0.3081,))])\n",
    "trainset = tv.datasets.MNIST(root='./data',  train=True,download=True, transform=transform)\n",
    "dataloader = torch.utils.data.DataLoader(trainset, batch_size=32, shuffle=False, num_workers=4)\n",
    "testset = tv.datasets.MNIST(root='./data', train=False, download=True, transform=transform)\n",
    "testloader = torch.utils.data.DataLoader(testset, batch_size=32, shuffle=False, num_workers=2)"
   ]
  },
  {
   "cell_type": "code",
   "execution_count": 61,
   "metadata": {},
   "outputs": [],
   "source": [
    "# VAE model\n",
    "class VAE(nn.Module):\n",
    "    def __init__(self, image_size=784, h_dim=400, z_dim=20):\n",
    "        super(VAE, self).__init__()\n",
    "        self.fc1 = nn.Linear(image_size, h_dim)\n",
    "        self.fc2 = nn.Linear(h_dim, z_dim)\n",
    "        self.fc3 = nn.Linear(h_dim, z_dim)\n",
    "        self.fc4 = nn.Linear(z_dim, h_dim)\n",
    "        self.fc5 = nn.Linear(h_dim, image_size)\n",
    "        \n",
    "    def encode(self, x):\n",
    "        h = F.relu(self.fc1(x))\n",
    "        return self.fc2(h), self.fc3(h)\n",
    "    \n",
    "    def reparameterize(self, mu, log_var):\n",
    "        std = torch.exp(log_var/2)\n",
    "        eps = torch.randn_like(std)\n",
    "        return mu + eps * std\n",
    "\n",
    "    def decode(self, z):\n",
    "        h = F.relu(self.fc4(z))\n",
    "        return torch.sigmoid(self.fc5(h))\n",
    "    \n",
    "    def forward(self, x):\n",
    "        mu, log_var = self.encode(x)\n",
    "        z = self.reparameterize(mu, log_var)\n",
    "        x_reconst = self.decode(z)\n",
    "        return x_reconst, mu, log_var"
   ]
  },
  {
   "cell_type": "code",
   "execution_count": 62,
   "metadata": {},
   "outputs": [],
   "source": [
    "model = VAE().to(device)\n",
    "optimizer = torch.optim.Adam(model.parameters(), lr=0.0001)"
   ]
  },
  {
   "cell_type": "code",
   "execution_count": 109,
   "metadata": {},
   "outputs": [],
   "source": [
    "num_epochs = 15"
   ]
  },
  {
   "cell_type": "markdown",
   "metadata": {},
   "source": [
    "### let's dive into BCE(binary cross-entropy) simple example"
   ]
  },
  {
   "cell_type": "code",
   "execution_count": 56,
   "metadata": {},
   "outputs": [
    {
     "name": "stdout",
     "output_type": "stream",
     "text": [
      "loss 0.966417133808136\n"
     ]
    }
   ],
   "source": [
    "input = torch.randn(3, 2, requires_grad=True)\n",
    "target = torch.rand(3, 2, requires_grad=False)\n",
    "loss = F.binary_cross_entropy(torch.sigmoid(input), target)\n",
    "loss.backward()\n",
    "# print(f\"input {input} \\n target {target} \\n loss {loss}\")\n",
    "print(f\"loss {loss}\")"
   ]
  },
  {
   "cell_type": "code",
   "execution_count": 57,
   "metadata": {},
   "outputs": [
    {
     "name": "stdout",
     "output_type": "stream",
     "text": [
      "tensor(0.9664, grad_fn=<MeanBackward0>)\n"
     ]
    }
   ],
   "source": [
    "omega = 1\n",
    "predictions = torch.sigmoid(input)\n",
    "# Calculate binary cross-entropy loss manually\n",
    "loss = -omega * (target * torch.log(predictions) + (1 - target) * torch.log(1 - predictions))\n",
    "\n",
    "# Mean loss\n",
    "mean_loss = torch.mean(loss)\n",
    "print(mean_loss)"
   ]
  },
  {
   "cell_type": "code",
   "execution_count": 58,
   "metadata": {},
   "outputs": [
    {
     "name": "stdout",
     "output_type": "stream",
     "text": [
      "loss mean  tensor([0.9664], grad_fn=<DivBackward0>)\n"
     ]
    }
   ],
   "source": [
    "N = input.shape[0]\n",
    "# omega = 0.5\n",
    "loss = 0\n",
    "preds = torch.sigmoid(input)\n",
    "for pt_i in range(N):\n",
    "    y_n = target[pt_i]\n",
    "    x_n = preds[pt_i]\n",
    "    pt_i_loss = -omega * (y_n*torch.log(x_n)  + (1 - y_n)*torch.log(1 - x_n))\n",
    "    loss += pt_i_loss\n",
    "\n",
    "# print('loss: ', loss)\n",
    "mean_loss = torch.mean(loss, dim=0, keepdim=True)\n",
    "print('loss mean ', mean_loss/N)"
   ]
  },
  {
   "cell_type": "markdown",
   "metadata": {},
   "source": [
    "### Main trainig loop"
   ]
  },
  {
   "cell_type": "code",
   "execution_count": 110,
   "metadata": {},
   "outputs": [
    {
     "name": "stderr",
     "output_type": "stream",
     "text": [
      "/home/ilua/miniconda3/envs/py39cuda116/lib/python3.9/site-packages/torch/nn/_reduction.py:42: UserWarning: size_average and reduce args will be deprecated, please use reduction='sum' instead.\n",
      "  warnings.warn(warning.format(ret))\n"
     ]
    },
    {
     "name": "stdout",
     "output_type": "stream",
     "text": [
      "Epoch[1/15], Reconst Loss: -1092608.5000, KL Div: 3858.2903\n",
      "Epoch[2/15], Reconst Loss: -1095701.1250, KL Div: 3823.0483\n",
      "Epoch[3/15], Reconst Loss: -1099263.0000, KL Div: 3770.2646\n",
      "Epoch[4/15], Reconst Loss: -1098079.5000, KL Div: 3709.2632\n",
      "Epoch[5/15], Reconst Loss: -1101372.3750, KL Div: 3693.3950\n",
      "Epoch[6/15], Reconst Loss: -1104072.6250, KL Div: 3650.2349\n",
      "Epoch[7/15], Reconst Loss: -1105262.6250, KL Div: 3625.8472\n",
      "Epoch[8/15], Reconst Loss: -1105792.5000, KL Div: 3594.6692\n",
      "Epoch[9/15], Reconst Loss: -1108535.1250, KL Div: 3556.2427\n",
      "Epoch[10/15], Reconst Loss: -1110443.3750, KL Div: 3555.4917\n",
      "Epoch[11/15], Reconst Loss: -1112207.7500, KL Div: 3509.7607\n",
      "Epoch[12/15], Reconst Loss: -1115444.1250, KL Div: 3501.4019\n",
      "Epoch[13/15], Reconst Loss: -1114905.8750, KL Div: 3455.5715\n",
      "Epoch[14/15], Reconst Loss: -1116851.2500, KL Div: 3447.5994\n",
      "Epoch[15/15], Reconst Loss: -1119424.5000, KL Div: 3422.6023\n"
     ]
    }
   ],
   "source": [
    "# Start training\n",
    "for epoch in range(num_epochs):\n",
    "    for i, (x, _) in enumerate(dataloader):\n",
    "        # Forward pass\n",
    "        x = x.to(device).view(-1, 784)\n",
    "        # x = x.to(device)\n",
    "        x_reconst, mu, log_var = model(x)\n",
    "        \n",
    "        # Compute reconstruction loss and kl divergence\n",
    "        reconst_loss = F.binary_cross_entropy(x_reconst, x, size_average=False)\n",
    "        kl_div = - 0.5 * torch.sum(1 + log_var - mu.pow(2) - log_var.exp())\n",
    "        \n",
    "        # Backprop and optimize\n",
    "        loss = reconst_loss + kl_div\n",
    "        optimizer.zero_grad()\n",
    "        loss.backward()\n",
    "        optimizer.step()\n",
    "        \n",
    "        # if (i+1) % 200 == 0:\n",
    "        #     print (\"Epoch[{}/{}], Step [{}/{}], Reconst Loss: {:.4f}, KL Div: {:.4f}\" \n",
    "        #            .format(epoch+1, num_epochs, i+1, len(dataloader), reconst_loss.item(), kl_div.item()))\n",
    "    print (\"Epoch[{}/{}], Reconst Loss: {:.4f}, KL Div: {:.4f}\" \n",
    "                   .format(epoch+1, num_epochs, reconst_loss.item(), kl_div.item()))\n"
   ]
  },
  {
   "cell_type": "code",
   "execution_count": 111,
   "metadata": {},
   "outputs": [],
   "source": [
    "with torch.no_grad():\n",
    "    z = torch.randn(32, 20).to(device)\n",
    "    out = model.decode(z).view(-1, 1, 28, 28)\n",
    "\n",
    "    out2, _, _ = model(x)\n",
    "    out2 = out2.view(-1, 1, 28, 28)\n",
    "\n",
    "    out3 = x.view(-1, 1, 28, 28)"
   ]
  },
  {
   "cell_type": "code",
   "execution_count": 112,
   "metadata": {},
   "outputs": [
    {
     "data": {
      "image/png": "[encoded data removed]",
      "text/plain": [
       "<Figure size 2000x500 with 30 Axes>"
      ]
     },
     "metadata": {},
     "output_type": "display_data"
    }
   ],
   "source": [
    "from torchvision.transforms import ToPILImage\n",
    "import matplotlib.pyplot as plt\n",
    "\n",
    "num_images = 10\n",
    "fig, axes = plt.subplots(3, num_images, figsize=(num_images * 2, 5))\n",
    "for i in range(num_images):\n",
    "\n",
    "    # inputs\n",
    "    axes[0, i].imshow(out3[i].squeeze().cpu().numpy(), cmap='gray')\n",
    "    axes[0, i].set_title('Original')\n",
    "    axes[0, i].axis('off')\n",
    "\n",
    "    # outputs\n",
    "    axes[1, i].imshow(out2[i].squeeze().cpu().numpy(), cmap='gray')\n",
    "    axes[1, i].set_title('Reconstructed')\n",
    "    axes[1, i].axis('off')\n",
    "\n",
    "    # rand sample\n",
    "    axes[2, i].imshow(out[i].squeeze().cpu().numpy(), cmap='gray')\n",
    "    axes[2, i].set_title('Generated')\n",
    "    axes[2, i].axis('off')\n",
    "\n"
   ]
  },
  {
   "cell_type": "code",
   "execution_count": 121,
   "metadata": {},
   "outputs": [
    {
     "data": {
      "image/png": "[encoded data removed]",
      "text/plain": [
       "<Figure size 640x480 with 1 Axes>"
      ]
     },
     "metadata": {},
     "output_type": "display_data"
    }
   ],
   "source": [
    "inp = x.cpu().view(-1, 1, 28, 28)\n",
    "img = inp[0].squeeze()\n",
    "\n",
    "plt.imshow(img, cmap='gray')\n",
    "plt.show()"
   ]
  },
  {
   "cell_type": "code",
   "execution_count": 122,
   "metadata": {},
   "outputs": [
    {
     "data": {
      "image/png": "[encoded data removed]",
      "text/plain": [
       "<Figure size 640x480 with 1 Axes>"
      ]
     },
     "metadata": {},
     "output_type": "display_data"
    }
   ],
   "source": [
    "img2 = inp[5].squeeze()\n",
    "\n",
    "plt.imshow(img2, cmap='gray')\n",
    "plt.show()"
   ]
  },
  {
   "cell_type": "code",
   "execution_count": null,
   "metadata": {},
   "outputs": [],
   "source": [
    "steps = 10\n",
    "num_images = 10\n",
    "fig, axes = plt.subplots(1, num_images, figsize=(steps * 2, 5))\n",
    "for i in range(steps):\n",
    "\n",
    "    # inputs\n",
    "    axes[0, i].imshow(out3[i].squeeze().cpu().numpy(), cmap='gray')\n",
    "    axes[0, i].set_title('Original')\n",
    "    axes[0, i].axis('off')\n",
    "\n"
   ]
  },
  {
   "cell_type": "code",
   "execution_count": 123,
   "metadata": {},
   "outputs": [],
   "source": [
    "def interpolate_and_plot(vae, img1, img2, steps=10):\n",
    "    # Encode the two images\n",
    "    mu1, log_var1 = vae.encode(img1)\n",
    "    z1 = vae.reparameterize(mu1, log_var1)\n",
    "\n",
    "    mu2, log_var2 = vae.encode(img2)\n",
    "    z2 = vae.reparameterize(mu2, log_var2)\n",
    "\n",
    "    # Interpolate between z1 and z2\n",
    "    interpolated_images = []\n",
    "    for alpha in torch.linspace(0, 1, steps):\n",
    "        z = (1 - alpha) * z1 + alpha * z2\n",
    "        img_recon = vae.decode(z)\n",
    "        interpolated_images.append(img_recon.detach().cpu().numpy().reshape(28, 28))  # Assuming 28x28 image size\n",
    "\n",
    "    # Plotting\n",
    "    fig, axs = plt.subplots(1, steps, figsize=(steps * 2, 2))\n",
    "    for i, img in enumerate(interpolated_images):\n",
    "        axs[i].imshow(img, cmap='gray')\n",
    "        axs[i].axis('off')\n",
    "    plt.show()"
   ]
  },
  {
   "cell_type": "code",
   "execution_count": 125,
   "metadata": {},
   "outputs": [
    {
     "data": {
      "image/png": "[encoded data removed]",
      "text/plain": [
       "<Figure size 2000x200 with 10 Axes>"
      ]
     },
     "metadata": {},
     "output_type": "display_data"
    }
   ],
   "source": [
    "image1 = x.cpu()[0]\n",
    "image2 = x.cpu()[5]\n",
    "modelcpu = model.to('cpu')\n",
    "\n",
    "interpolate_and_plot(model, image1, image2)"
   ]
  },
  {
   "cell_type": "code",
   "execution_count": null,
   "metadata": {},
   "outputs": [],
   "source": []
  }
 ],
 "metadata": {
  "kernelspec": {
   "display_name": "Python 3.9.19 ('py39cuda116')",
   "language": "python",
   "name": "python3"
  },
  "language_info": {
   "codemirror_mode": {
    "name": "ipython",
    "version": 3
   },
   "file_extension": ".py",
   "mimetype": "text/x-python",
   "name": "python",
   "nbconvert_exporter": "python",
   "pygments_lexer": "ipython3",
   "version": "3.9.19"
  },
  "orig_nbformat": 4,
  "vscode": {
   "interpreter": {
    "hash": "64f4cc3f21208280086ff690d9e4817fbcabfd3f0a7e53d59bdb99f91d8bff84"
   }
  }
 },
 "nbformat": 4,
 "nbformat_minor": 2
}
