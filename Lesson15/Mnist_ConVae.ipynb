{
 "cells": [
  {
   "cell_type": "code",
   "execution_count": 4,
   "metadata": {},
   "outputs": [],
   "source": [
    "import torch\n",
    "import torchvision as tv\n",
    "import torchvision.transforms as transforms\n",
    "import torch.nn as nn\n",
    "import torch.nn.functional as F\n",
    "from torch.autograd import Variable\n",
    "from torchvision.utils import save_image\n",
    "import matplotlib.pyplot as plt\n",
    "import numpy as np\n",
    "\n",
    "from fastai.vision.all import *"
   ]
  },
  {
   "cell_type": "code",
   "execution_count": 5,
   "metadata": {},
   "outputs": [],
   "source": [
    "# Device configuration\n",
    "device = torch.device('cuda' if torch.cuda.is_available() else 'cpu')"
   ]
  },
  {
   "cell_type": "code",
   "execution_count": 6,
   "metadata": {},
   "outputs": [],
   "source": [
    "transform = transforms.Compose([transforms.ToTensor(), transforms.Normalize((0.1307,), (0.3081,))])\n",
    "trainTransform  = tv.transforms.Compose([tv.transforms.ToTensor(), tv.transforms.Normalize((0.1307,), (0.3081,))])\n",
    "trainset = tv.datasets.MNIST(root='./data',  train=True,download=True, transform=transform)\n",
    "dataloader = torch.utils.data.DataLoader(trainset, batch_size=32, shuffle=False, num_workers=4)\n",
    "testset = tv.datasets.MNIST(root='./data', train=False, download=True, transform=transform)\n",
    "testloader = torch.utils.data.DataLoader(testset, batch_size=32, shuffle=False, num_workers=2)"
   ]
  },
  {
   "cell_type": "code",
   "execution_count": 19,
   "metadata": {},
   "outputs": [],
   "source": [
    "class ConVAE(nn.Module):\n",
    "    def __init__(self):\n",
    "        super(ConVAE,self).__init__()\n",
    "\n",
    "        self.encoder = nn.Sequential(                                       #28\n",
    "                nn.Conv2d(1, 32, kernel_size= 3, stride= 2, padding  = 1),  #14\n",
    "                nn.BatchNorm2d(32),\n",
    "                nn.ReLU(),\n",
    "                nn.Conv2d(32, 64, kernel_size= 3, stride= 2, padding  = 1),  #7\n",
    "                nn.ReLU(),\n",
    "                nn.Dropout(0.1),\n",
    "                nn.Flatten(),\n",
    "                nn.Linear(3136, 64),\n",
    "                nn.ReLU()\n",
    "        )\n",
    "\n",
    "        self.decoder = nn.Sequential(                                       \n",
    "                nn.Linear(2, 64),\n",
    "                nn.ReLU(),\n",
    "                nn.Linear(64, 3136),\n",
    "                nn.ReLU(),\n",
    "                nn.Unflatten(1, (64, 7, 7)),    #7\n",
    "                nn.ConvTranspose2d(64, 32, kernel_size=3, stride= 2, padding  = 1, output_padding=1),   #14\n",
    "                nn.BatchNorm2d(32),\n",
    "                nn.ReLU(),\n",
    "                nn.ConvTranspose2d(32, 1, kernel_size=3, stride= 2, padding  = 1, output_padding=1),  #28\n",
    "                nn.Sigmoid()\n",
    "        )\n",
    "\n",
    "        self.fc1_mu = nn.Linear(64, 2)\n",
    "        self.fc2_logvar = nn.Linear(64, 2)\n",
    "\n",
    "\n",
    "    def encode(self, x):\n",
    "        h = self.encoder(x)\n",
    "        return self.fc1_mu(h), self.fc2_logvar(h)\n",
    "\n",
    "    def reparameterize(self, mu, log_var):\n",
    "        std = torch.exp(log_var/2)\n",
    "        eps = torch.randn_like(std)\n",
    "        return mu + eps * std\n",
    "\n",
    "    def decode(self, x):\n",
    "        return self.decoder(x)\n",
    "\n",
    "    def forward(self, x):\n",
    "        mu, log_var = self.encode(x)\n",
    "        z = self.reparameterize(mu, log_var)\n",
    "        x_reconst = self.decode(z)\n",
    "        return x_reconst, mu, log_var\n"
   ]
  },
  {
   "cell_type": "code",
   "execution_count": 29,
   "metadata": {},
   "outputs": [],
   "source": [
    "model = ConVAE().to(device)\n",
    "optimizer = torch.optim.Adam(model.parameters(), lr=0.001)"
   ]
  },
  {
   "cell_type": "code",
   "execution_count": 30,
   "metadata": {},
   "outputs": [],
   "source": [
    "num_epochs = 12"
   ]
  },
  {
   "cell_type": "code",
   "execution_count": 31,
   "metadata": {},
   "outputs": [
    {
     "name": "stdout",
     "output_type": "stream",
     "text": [
      "Epoch[1/12], Reconst Loss: -443184.0625, KL Div: 804.7179\n",
      "Epoch[2/12], Reconst Loss: -483284.4688, KL Div: 1150.5583\n",
      "Epoch[3/12], Reconst Loss: -550444.9375, KL Div: 1166.3635\n",
      "Epoch[4/12], Reconst Loss: -578554.8750, KL Div: 1200.4619\n",
      "Epoch[5/12], Reconst Loss: -602509.2500, KL Div: 1607.5229\n",
      "Epoch[6/12], Reconst Loss: -648645.3750, KL Div: 1744.1052\n",
      "Epoch[7/12], Reconst Loss: -638629.2500, KL Div: 2267.7778\n",
      "Epoch[8/12], Reconst Loss: -684661.9375, KL Div: 1518.8853\n",
      "Epoch[9/12], Reconst Loss: -659199.8750, KL Div: 1861.1409\n",
      "Epoch[10/12], Reconst Loss: -699509.0000, KL Div: 1421.9807\n",
      "Epoch[11/12], Reconst Loss: -699026.8750, KL Div: 1745.7147\n",
      "Epoch[12/12], Reconst Loss: -708290.6250, KL Div: 1704.9421\n"
     ]
    }
   ],
   "source": [
    "# Start training\n",
    "for epoch in range(num_epochs):\n",
    "    for i, (x, _) in enumerate(dataloader):\n",
    "        # Forward pass\n",
    "        # x = x.to(device).view(-1, 784)\n",
    "        x = x.to(device)\n",
    "        x_reconst, mu, log_var = model(x)\n",
    "        \n",
    "        # Compute reconstruction loss and kl divergence\n",
    "        reconst_loss = F.binary_cross_entropy(x_reconst, x, size_average=False)\n",
    "        kl_div = - 0.5 * torch.sum(1 + log_var - mu.pow(2) - log_var.exp())\n",
    "        \n",
    "        # Backprop and optimize\n",
    "        loss = reconst_loss + kl_div\n",
    "        optimizer.zero_grad()\n",
    "        loss.backward()\n",
    "        optimizer.step()\n",
    "        \n",
    "        # if (i+1) % 200 == 0:\n",
    "        #     print (\"Epoch[{}/{}], Step [{}/{}], Reconst Loss: {:.4f}, KL Div: {:.4f}\" \n",
    "        #            .format(epoch+1, num_epochs, i+1, len(dataloader), reconst_loss.item(), kl_div.item()))\n",
    "    print (\"Epoch[{}/{}], Reconst Loss: {:.4f}, KL Div: {:.4f}\" \n",
    "                   .format(epoch+1, num_epochs, reconst_loss.item(), kl_div.item()))\n"
   ]
  },
  {
   "cell_type": "code",
   "execution_count": 32,
   "metadata": {},
   "outputs": [],
   "source": [
    "with torch.no_grad():\n",
    "    z = torch.randn(32, 2).to(device)\n",
    "    out = model.decode(z).view(-1, 1, 28, 28)\n",
    "\n",
    "    out2, _, _ = model(x)\n",
    "    out2 = out2.view(-1, 1, 28, 28)\n",
    "\n",
    "    out3 = x.view(-1, 1, 28, 28)"
   ]
  },
  {
   "cell_type": "code",
   "execution_count": 33,
   "metadata": {},
   "outputs": [
    {
     "data": {
      "image/png": "[encoded data removed]",
      "text/plain": [
       "<Figure size 2000x500 with 30 Axes>"
      ]
     },
     "metadata": {},
     "output_type": "display_data"
    }
   ],
   "source": [
    "from torchvision.transforms import ToPILImage\n",
    "import matplotlib.pyplot as plt\n",
    "\n",
    "num_images = 10\n",
    "fig, axes = plt.subplots(3, num_images, figsize=(num_images * 2, 5))\n",
    "for i in range(num_images):\n",
    "\n",
    "    # inputs\n",
    "    axes[0, i].imshow(out3[i].squeeze().cpu().numpy(), cmap='gray')\n",
    "    axes[0, i].set_title('Original')\n",
    "    axes[0, i].axis('off')\n",
    "\n",
    "    # outputs\n",
    "    axes[1, i].imshow(out2[i].squeeze().cpu().numpy(), cmap='gray')\n",
    "    axes[1, i].set_title('Reconstructed')\n",
    "    axes[1, i].axis('off')\n",
    "\n",
    "    # rand sample\n",
    "    axes[2, i].imshow(out[i].squeeze().cpu().numpy(), cmap='gray')\n",
    "    axes[2, i].set_title('Generated')\n",
    "    axes[2, i].axis('off')"
   ]
  },
  {
   "cell_type": "code",
   "execution_count": null,
   "metadata": {},
   "outputs": [],
   "source": []
  }
 ],
 "metadata": {
  "kernelspec": {
   "display_name": "Python 3.9.19 ('py39cuda116')",
   "language": "python",
   "name": "python3"
  },
  "language_info": {
   "codemirror_mode": {
    "name": "ipython",
    "version": 3
   },
   "file_extension": ".py",
   "mimetype": "text/x-python",
   "name": "python",
   "nbconvert_exporter": "python",
   "pygments_lexer": "ipython3",
   "version": "3.9.19"
  },
  "orig_nbformat": 4,
  "vscode": {
   "interpreter": {
    "hash": "64f4cc3f21208280086ff690d9e4817fbcabfd3f0a7e53d59bdb99f91d8bff84"
   }
  }
 },
 "nbformat": 4,
 "nbformat_minor": 2
}
