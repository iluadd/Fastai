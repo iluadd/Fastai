{
 "cells": [
  {
   "cell_type": "code",
   "execution_count": 1,
   "metadata": {},
   "outputs": [],
   "source": [
    "import torch\n",
    "import torchvision as tv\n",
    "import torchvision.transforms as transforms\n",
    "import torch.nn as nn\n",
    "import torch.nn.functional as F\n",
    "from torch.autograd import Variable\n",
    "from torchvision.utils import save_image\n",
    "import matplotlib.pyplot as plt\n",
    "import numpy as np\n",
    "\n",
    "from fastai.vision.all import *"
   ]
  },
  {
   "cell_type": "code",
   "execution_count": 2,
   "metadata": {},
   "outputs": [],
   "source": [
    "# Device configuration\n",
    "device = torch.device('cuda' if torch.cuda.is_available() else 'cpu')"
   ]
  },
  {
   "cell_type": "code",
   "execution_count": 3,
   "metadata": {},
   "outputs": [],
   "source": [
    "transform = transforms.Compose([transforms.ToTensor(), transforms.Normalize((0.1307,), (0.3081,))])\n",
    "trainTransform  = tv.transforms.Compose([tv.transforms.ToTensor(), tv.transforms.Normalize((0.1307,), (0.3081,))])\n",
    "trainset = tv.datasets.MNIST(root='./data',  train=True,download=True, transform=transform)\n",
    "dataloader = torch.utils.data.DataLoader(trainset, batch_size=64, shuffle=False, num_workers=4)\n",
    "testset = tv.datasets.MNIST(root='./data', train=False, download=True, transform=transform)\n",
    "testloader = torch.utils.data.DataLoader(testset, batch_size=64, shuffle=False, num_workers=2)"
   ]
  },
  {
   "cell_type": "code",
   "execution_count": 4,
   "metadata": {},
   "outputs": [],
   "source": [
    "class ConVAE(nn.Module):\n",
    "    def __init__(self):\n",
    "        super(ConVAE,self).__init__()\n",
    "\n",
    "        self.bottleneck_neurons = 20\n",
    "\n",
    "        self.encoder = nn.Sequential(                                       #28\n",
    "                nn.Conv2d(1, 32, kernel_size= 3, stride= 2, padding  = 1),  #14\n",
    "                nn.BatchNorm2d(32),\n",
    "                nn.ReLU(),\n",
    "                nn.Conv2d(32, 64, kernel_size= 3, stride= 2, padding  = 1),  #7\n",
    "                nn.ReLU(),\n",
    "                nn.Dropout(0.1),\n",
    "                nn.Flatten(),\n",
    "                nn.Linear(3136, 64),\n",
    "                nn.ReLU()\n",
    "        )\n",
    "\n",
    "        self.decoder = nn.Sequential(                                       \n",
    "                nn.Linear(self.bottleneck_neurons, 64),\n",
    "                nn.ReLU(),\n",
    "                nn.Linear(64, 3136),\n",
    "                nn.ReLU(),\n",
    "                nn.Unflatten(1, (64, 7, 7)),    #7\n",
    "                nn.ConvTranspose2d(64, 32, kernel_size=3, stride= 2, padding  = 1, output_padding=1),   #14\n",
    "                nn.BatchNorm2d(32),\n",
    "                nn.ReLU(),\n",
    "                nn.ConvTranspose2d(32, 1, kernel_size=3, stride= 2, padding  = 1, output_padding=1),  #28\n",
    "                nn.Sigmoid()\n",
    "        )\n",
    "\n",
    "        self.fc1_mu = nn.Linear(64, self.bottleneck_neurons)\n",
    "        self.fc2_logvar = nn.Linear(64, self.bottleneck_neurons)\n",
    "\n",
    "\n",
    "    def encode(self, x):\n",
    "        h = self.encoder(x)\n",
    "        return self.fc1_mu(h), self.fc2_logvar(h)\n",
    "\n",
    "    def reparameterize(self, mu, log_var):\n",
    "        std = torch.exp(log_var/2)\n",
    "        eps = torch.randn_like(std)\n",
    "        return mu + eps * std\n",
    "\n",
    "    def decode(self, x):\n",
    "        return self.decoder(x)\n",
    "\n",
    "    def forward(self, x):\n",
    "        mu, log_var = self.encode(x)\n",
    "        z = self.reparameterize(mu, log_var)\n",
    "        x_reconst = self.decode(z)\n",
    "        return x_reconst, mu, log_var"
   ]
  },
  {
   "cell_type": "code",
   "execution_count": 52,
   "metadata": {},
   "outputs": [],
   "source": [
    "model = ConVAE().to(device)\n",
    "optimizer = torch.optim.Adam(model.parameters(), lr=0.001)"
   ]
  },
  {
   "cell_type": "markdown",
   "metadata": {},
   "source": [
    "Introducing schedullers"
   ]
  },
  {
   "cell_type": "code",
   "execution_count": 49,
   "metadata": {},
   "outputs": [
    {
     "name": "stdout",
     "output_type": "stream",
     "text": [
      "938\n"
     ]
    }
   ],
   "source": [
    "num_batches = len(dataloader)\n",
    "print(num_batches)"
   ]
  },
  {
   "cell_type": "code",
   "execution_count": 53,
   "metadata": {},
   "outputs": [],
   "source": [
    "from torch.optim.lr_scheduler import CosineAnnealingLR, OneCycleLR\n",
    "\n",
    "sched = OneCycleLR(optimizer, max_lr=0.01, steps_per_epoch=938, epochs=30)"
   ]
  },
  {
   "cell_type": "markdown",
   "metadata": {},
   "source": [
    "Applying HE weight initilization "
   ]
  },
  {
   "cell_type": "code",
   "execution_count": null,
   "metadata": {},
   "outputs": [],
   "source": [
    "from torch.nn import init\n",
    "\n",
    "def init_weights(m):\n",
    "    if isinstance(m, (nn.Conv1d,nn.Conv2d,nn.Conv3d)): init.kaiming_normal_(m.weight)\n",
    "    \n",
    "model.apply(init_weights)"
   ]
  },
  {
   "cell_type": "markdown",
   "metadata": {},
   "source": [
    "We can check model layers statistics :"
   ]
  },
  {
   "cell_type": "code",
   "execution_count": null,
   "metadata": {},
   "outputs": [],
   "source": [
    "for name, module in model.named_modules():\n",
    "    if hasattr(module, 'weight') and module.weight is not None:\n",
    "        weight_mean = module.weight.data.mean().item()\n",
    "        weight_std = module.weight.data.std().item()\n",
    "        print(f\"Layer: {name} | Weight Mean: {weight_mean:.4f} | Weight Std: {weight_std:.4f}\")\n",
    "    if hasattr(module, 'bias') and module.bias is not None:\n",
    "        bias_mean = module.bias.data.mean().item()\n",
    "        bias_std = module.bias.data.std().item()\n",
    "        print(f\"Layer: {name} | Bias Mean: {bias_mean:.4f} | Bias Std: {bias_std:.4f}\")"
   ]
  },
  {
   "cell_type": "code",
   "execution_count": 55,
   "metadata": {},
   "outputs": [],
   "source": [
    "num_epochs = 30"
   ]
  },
  {
   "cell_type": "code",
   "execution_count": 56,
   "metadata": {},
   "outputs": [
    {
     "name": "stderr",
     "output_type": "stream",
     "text": [
      "/home/ilua/miniconda3/envs/py39cuda116/lib/python3.9/site-packages/torch/nn/_reduction.py:42: UserWarning: size_average and reduce args will be deprecated, please use reduction='sum' instead.\n",
      "  warnings.warn(warning.format(ret))\n"
     ]
    },
    {
     "name": "stdout",
     "output_type": "stream",
     "text": [
      "Epoch[1/30], Reconst Loss: -487432.1875, KL Div: 1984.8313\n",
      "Epoch 1, Learning Rate: 0.000690\n",
      "Epoch[2/30], Reconst Loss: -707079.3750, KL Div: 2132.0002\n",
      "Epoch 2, Learning Rate: 0.001523\n",
      "Epoch[3/30], Reconst Loss: -797600.1250, KL Div: 2178.0603\n",
      "Epoch 3, Learning Rate: 0.002801\n",
      "Epoch[4/30], Reconst Loss: -873996.5000, KL Div: 2150.3237\n",
      "Epoch 4, Learning Rate: 0.004367\n",
      "Epoch[5/30], Reconst Loss: -940381.1250, KL Div: 2055.2632\n",
      "Epoch 5, Learning Rate: 0.006034\n",
      "Epoch[6/30], Reconst Loss: -1003093.3750, KL Div: 2265.7209\n",
      "Epoch 6, Learning Rate: 0.007601\n",
      "Epoch[7/30], Reconst Loss: -1017367.0625, KL Div: 1877.7478\n",
      "Epoch 7, Learning Rate: 0.008878\n",
      "Epoch[8/30], Reconst Loss: -1032018.3125, KL Div: 2450.7500\n",
      "Epoch 8, Learning Rate: 0.009711\n",
      "Epoch[9/30], Reconst Loss: -1073074.5000, KL Div: 2249.2256\n",
      "Epoch 9, Learning Rate: 0.010000\n",
      "Epoch[10/30], Reconst Loss: -1091709.6250, KL Div: 2202.5562\n",
      "Epoch 10, Learning Rate: 0.009944\n",
      "Epoch[11/30], Reconst Loss: -1097008.0000, KL Div: 2624.1089\n",
      "Epoch 11, Learning Rate: 0.009778\n",
      "Epoch[12/30], Reconst Loss: -1099138.7500, KL Div: 3160.8003\n",
      "Epoch 12, Learning Rate: 0.009505\n",
      "Epoch[13/30], Reconst Loss: -1113382.5000, KL Div: 3182.3228\n",
      "Epoch 13, Learning Rate: 0.009131\n",
      "Epoch[14/30], Reconst Loss: -1122979.2500, KL Div: 2429.9968\n",
      "Epoch 14, Learning Rate: 0.008665\n",
      "Epoch[15/30], Reconst Loss: -1135900.6250, KL Div: 2231.3684\n",
      "Epoch 15, Learning Rate: 0.008117\n",
      "Epoch[16/30], Reconst Loss: -1144394.2500, KL Div: 2659.8806\n",
      "Epoch 16, Learning Rate: 0.007499\n",
      "Epoch[17/30], Reconst Loss: -1144073.1250, KL Div: 2497.2900\n",
      "Epoch 17, Learning Rate: 0.006826\n",
      "Epoch[18/30], Reconst Loss: -1153906.2500, KL Div: 2531.2192\n",
      "Epoch 18, Learning Rate: 0.006112\n",
      "Epoch[19/30], Reconst Loss: -1160961.6250, KL Div: 2498.6582\n",
      "Epoch 19, Learning Rate: 0.005373\n",
      "Epoch[20/30], Reconst Loss: -1164362.5000, KL Div: 2295.2942\n",
      "Epoch 20, Learning Rate: 0.004626\n",
      "Epoch[21/30], Reconst Loss: -1172133.8750, KL Div: 2382.3091\n",
      "Epoch 21, Learning Rate: 0.003887\n",
      "Epoch[22/30], Reconst Loss: -1175124.2500, KL Div: 2403.9458\n",
      "Epoch 22, Learning Rate: 0.003173\n",
      "Epoch[23/30], Reconst Loss: -1174635.2500, KL Div: 2748.1895\n",
      "Epoch 23, Learning Rate: 0.002499\n",
      "Epoch[24/30], Reconst Loss: -1175393.5000, KL Div: 2568.3794\n",
      "Epoch 24, Learning Rate: 0.001882\n",
      "Epoch[25/30], Reconst Loss: -1184930.2500, KL Div: 2432.6836\n",
      "Epoch 25, Learning Rate: 0.001334\n",
      "Epoch[26/30], Reconst Loss: -1184541.8750, KL Div: 2311.5005\n",
      "Epoch 26, Learning Rate: 0.000868\n",
      "Epoch[27/30], Reconst Loss: -1188983.8750, KL Div: 2201.3235\n",
      "Epoch 27, Learning Rate: 0.000495\n",
      "Epoch[28/30], Reconst Loss: -1188913.1250, KL Div: 2169.3569\n",
      "Epoch 28, Learning Rate: 0.000222\n",
      "Epoch[29/30], Reconst Loss: -1190571.5000, KL Div: 2137.4932\n",
      "Epoch 29, Learning Rate: 0.000056\n",
      "Epoch[30/30], Reconst Loss: -1189486.3750, KL Div: 2155.9749\n",
      "Epoch 30, Learning Rate: 0.000000\n"
     ]
    }
   ],
   "source": [
    "# Start training\n",
    "for epoch in range(num_epochs):\n",
    "    for i, (x, _) in enumerate(dataloader):\n",
    "        # Forward pass\n",
    "        # x = x.to(device).view(-1, 784)\n",
    "        x = x.to(device)\n",
    "        x_reconst, mu, log_var = model(x)\n",
    "        \n",
    "        # Compute reconstruction loss and kl divergence\n",
    "        reconst_loss = F.binary_cross_entropy(x_reconst, x, size_average=False)\n",
    "        kl_div = - 0.5 * torch.sum(1 + log_var - mu.pow(2) - log_var.exp())\n",
    "        \n",
    "        # Backprop and optimize\n",
    "        loss = reconst_loss + kl_div\n",
    "        optimizer.zero_grad()\n",
    "        loss.backward()\n",
    "        optimizer.step()\n",
    "        \n",
    "        # Step the scheduler\n",
    "        sched.step()\n",
    "\n",
    "    print (\"Epoch[{}/{}], Reconst Loss: {:.4f}, KL Div: {:.4f}\" \n",
    "                   .format(epoch+1, num_epochs, reconst_loss.item(), kl_div.item()))\n",
    "\n",
    "    # Print current learning rate\n",
    "    current_lr = sched.get_last_lr()[0]\n",
    "    print(f\"Epoch {epoch + 1}, Learning Rate: {current_lr:.6f}\")"
   ]
  },
  {
   "cell_type": "code",
   "execution_count": 57,
   "metadata": {},
   "outputs": [],
   "source": [
    "with torch.no_grad():\n",
    "    z = torch.randn(32, 20).to(device)\n",
    "    out = model.decode(z).view(-1, 1, 28, 28)\n",
    "\n",
    "    out2, _, _ = model(x)\n",
    "    out2 = out2.view(-1, 1, 28, 28)\n",
    "\n",
    "    out3 = x.view(-1, 1, 28, 28)"
   ]
  },
  {
   "cell_type": "code",
   "execution_count": 58,
   "metadata": {},
   "outputs": [
    {
     "data": {
      "image/png": "[encoded data removed]",
      "text/plain": [
       "<Figure size 2000x500 with 30 Axes>"
      ]
     },
     "metadata": {},
     "output_type": "display_data"
    }
   ],
   "source": [
    "from torchvision.transforms import ToPILImage\n",
    "import matplotlib.pyplot as plt\n",
    "\n",
    "num_images = 10\n",
    "fig, axes = plt.subplots(3, num_images, figsize=(num_images * 2, 5))\n",
    "for i in range(num_images):\n",
    "\n",
    "    # inputs\n",
    "    axes[0, i].imshow(out3[i].squeeze().cpu().numpy(), cmap='gray')\n",
    "    axes[0, i].set_title('Original')\n",
    "    axes[0, i].axis('off')\n",
    "\n",
    "    # outputs\n",
    "    axes[1, i].imshow(out2[i].squeeze().cpu().numpy(), cmap='gray')\n",
    "    axes[1, i].set_title('Reconstructed')\n",
    "    axes[1, i].axis('off')\n",
    "\n",
    "    # rand sample\n",
    "    axes[2, i].imshow(out[i].squeeze().cpu().numpy(), cmap='gray')\n",
    "    axes[2, i].set_title('Generated')\n",
    "    axes[2, i].axis('off')"
   ]
  },
  {
   "cell_type": "markdown",
   "metadata": {},
   "source": [
    "Let's do some latent interpolations between two input digits"
   ]
  },
  {
   "cell_type": "code",
   "execution_count": 59,
   "metadata": {},
   "outputs": [],
   "source": [
    "def interpolate_and_plot(vae, img1, img2, steps=10):\n",
    "    # Encode the two images\n",
    "    mu1, log_var1 = vae.encode(img1)\n",
    "    z1 = vae.reparameterize(mu1, log_var1)\n",
    "\n",
    "    mu2, log_var2 = vae.encode(img2)\n",
    "    z2 = vae.reparameterize(mu2, log_var2)\n",
    "\n",
    "    # Interpolate between z1 and z2\n",
    "    interpolated_images = []\n",
    "    for alpha in torch.linspace(0, 1, steps):\n",
    "        z = (1 - alpha) * z1 + alpha * z2\n",
    "        img_recon = vae.decode(z)\n",
    "        interpolated_images.append(img_recon.detach().cpu().numpy().reshape(28, 28))  # Assuming 28x28 image size\n",
    "\n",
    "    # Plotting\n",
    "    fig, axs = plt.subplots(1, steps, figsize=(steps * 2, 2))\n",
    "    for i, img in enumerate(interpolated_images):\n",
    "        axs[i].imshow(img, cmap='gray')\n",
    "        axs[i].axis('off')\n",
    "    plt.show()"
   ]
  },
  {
   "cell_type": "code",
   "execution_count": 60,
   "metadata": {},
   "outputs": [
    {
     "data": {
      "image/png": "[encoded data removed]",
      "text/plain": [
       "<Figure size 2000x200 with 10 Axes>"
      ]
     },
     "metadata": {},
     "output_type": "display_data"
    }
   ],
   "source": [
    "image1 = x.cpu()[0]\n",
    "image2 = x.cpu()[5]\n",
    "modelcpu = model.to('cpu')\n",
    "\n",
    "interpolate_and_plot(model, image1.unsqueeze(1), image2.unsqueeze(1))"
   ]
  },
  {
   "cell_type": "code",
   "execution_count": 61,
   "metadata": {},
   "outputs": [
    {
     "data": {
      "image/png": "[encoded data removed]",
      "text/plain": [
       "<Figure size 2000x200 with 10 Axes>"
      ]
     },
     "metadata": {},
     "output_type": "display_data"
    }
   ],
   "source": [
    "image1 = x.cpu()[11]\n",
    "image2 = x.cpu()[23]\n",
    "modelcpu = model.to('cpu')\n",
    "\n",
    "interpolate_and_plot(model, image1.unsqueeze(1), image2.unsqueeze(1))"
   ]
  },
  {
   "cell_type": "code",
   "execution_count": null,
   "metadata": {},
   "outputs": [],
   "source": []
  }
 ],
 "metadata": {
  "kernelspec": {
   "display_name": "Python 3.9.19 ('py39cuda116')",
   "language": "python",
   "name": "python3"
  },
  "language_info": {
   "codemirror_mode": {
    "name": "ipython",
    "version": 3
   },
   "file_extension": ".py",
   "mimetype": "text/x-python",
   "name": "python",
   "nbconvert_exporter": "python",
   "pygments_lexer": "ipython3",
   "version": "3.9.19"
  },
  "orig_nbformat": 4,
  "vscode": {
   "interpreter": {
    "hash": "64f4cc3f21208280086ff690d9e4817fbcabfd3f0a7e53d59bdb99f91d8bff84"
   }
  }
 },
 "nbformat": 4,
 "nbformat_minor": 2
}
